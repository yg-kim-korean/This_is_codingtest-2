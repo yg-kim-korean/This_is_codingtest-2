{
  "nbformat": 4,
  "nbformat_minor": 0,
  "metadata": {
    "colab": {
      "name": "이것이코딩이다2번째.ipynb",
      "provenance": [],
      "toc_visible": true,
      "authorship_tag": "ABX9TyO0UwOMbYDCfm0/H8qXC7JG",
      "include_colab_link": true
    },
    "kernelspec": {
      "name": "python3",
      "display_name": "Python 3"
    }
  },
  "cells": [
    {
      "cell_type": "markdown",
      "metadata": {
        "id": "view-in-github",
        "colab_type": "text"
      },
      "source": [
        "<a href=\"https://colab.research.google.com/github/yg-kim-korean/This_is_codingtest-2/blob/master/%EC%9D%B4%EA%B2%83%EC%9D%B4%EC%BD%94%EB%94%A9%EC%9D%B4%EB%8B%A42%EB%B2%88%EC%A7%B8.ipynb\" target=\"_parent\"><img src=\"https://colab.research.google.com/assets/colab-badge.svg\" alt=\"Open In Colab\"/></a>"
      ]
    },
    {
      "cell_type": "markdown",
      "metadata": {
        "id": "rdXoUNrfOmKH",
        "colab_type": "text"
      },
      "source": [
        "# **1. Greedy 알고리즘**\n",
        "현재 상황에서 지금 당장 좋은것만 고르는 방법"
      ]
    },
    {
      "cell_type": "markdown",
      "metadata": {
        "id": "HopVdJsLOtUi",
        "colab_type": "text"
      },
      "source": [
        "#그리디 #큰수의 법칙\n",
        "p92\n",
        "\n"
      ]
    },
    {
      "cell_type": "code",
      "metadata": {
        "id": "IbJYZGNaOaCu",
        "colab_type": "code",
        "colab": {
          "base_uri": "https://localhost:8080/",
          "height": 71
        },
        "outputId": "d46b9546-05d7-45a4-b07b-c3b2401f4388"
      },
      "source": [
        "n,m,k = map(int,input().split())\n",
        "data = list(map(int,input().split()))\n",
        "\n",
        "data.sort()\n",
        "first = data[n-1]\n",
        "second = data[n-2]\n",
        "\n",
        "result = 0\n",
        "\n",
        "while True:\n",
        "  for i in range(k):\n",
        "    if m == 0 :\n",
        "      break\n",
        "    result+=first\n",
        "    m-=1\n",
        "  if m == 0 :\n",
        "    break\n",
        "  result+=second\n",
        "  m-=1\n",
        "\n",
        "print(result)\n"
      ],
      "execution_count": 2,
      "outputs": [
        {
          "output_type": "stream",
          "text": [
            "5 8 3\n",
            "2 4 5 4 6\n",
            "46\n"
          ],
          "name": "stdout"
        }
      ]
    },
    {
      "cell_type": "code",
      "metadata": {
        "id": "UIVWL5evQZRY",
        "colab_type": "code",
        "colab": {
          "base_uri": "https://localhost:8080/",
          "height": 71
        },
        "outputId": "592f53c5-8695-4c4e-af51-0da97880800f"
      },
      "source": [
        "n,m,k = map(int,input().split())\n",
        "data = list(map(int,input().split()))\n",
        "\n",
        "data.sort()\n",
        "first = data[n-1]\n",
        "second = data[n-2]\n",
        "\n",
        "#가장 큰 수가 더해지는 횟수 계산\n",
        "count = int(m/(k+1)) * k\n",
        "count += m % (k+1)\n",
        "\n",
        "result = 0\n",
        "result += (count) * first\n",
        "result += (m-count) * second\n",
        "\n",
        "print(result)"
      ],
      "execution_count": 3,
      "outputs": [
        {
          "output_type": "stream",
          "text": [
            "5 8 3\n",
            "2 4 5 4 6\n",
            "46\n"
          ],
          "name": "stdout"
        }
      ]
    },
    {
      "cell_type": "markdown",
      "metadata": {
        "id": "TwRm0s_AQarW",
        "colab_type": "text"
      },
      "source": [
        "#그리디 #숫자카드게임\n",
        "p96\n",
        "\n",
        "```\n",
        "# 코드로 형식 지정됨\n",
        "```\n",
        "\n",
        "\n"
      ]
    },
    {
      "cell_type": "code",
      "metadata": {
        "id": "7HO-5dLgg2-F",
        "colab_type": "code",
        "colab": {
          "base_uri": "https://localhost:8080/",
          "height": 107
        },
        "outputId": "d668ede2-36e5-4023-a906-20d9d360ebad"
      },
      "source": [
        "# min 함수 사용\n",
        "n,m = map(int,input().split())\n",
        "result = 0\n",
        "for i in range(n):\n",
        " data = list(map(int,input().split()))\n",
        " #현재줄에서 가장 작은수 찾기\n",
        " min_data = min(data)\n",
        " result = max(result,min_data)\n",
        "\n",
        "print(result)\n"
      ],
      "execution_count": 4,
      "outputs": [
        {
          "output_type": "stream",
          "text": [
            "3 3\n",
            "3 1 2\n",
            "4 1 4\n",
            "2 2 2\n",
            "2\n"
          ],
          "name": "stdout"
        }
      ]
    },
    {
      "cell_type": "code",
      "metadata": {
        "id": "EU1iRE9GjRiW",
        "colab_type": "code",
        "colab": {
          "base_uri": "https://localhost:8080/",
          "height": 107
        },
        "outputId": "86896c91-5228-431f-8a71-9a1badcde6b0"
      },
      "source": [
        "# 이중 반복문 사용\n",
        "n,m = map(int,input().split())\n",
        "result = 0\n",
        "for i in range(n):\n",
        " data = list(map(int,input().split()))\n",
        " #가장 큰수가 10000 이므로\n",
        " min_value = 10001\n",
        " for a in data:\n",
        "   min_value = min(min_value,a)\n",
        " result = max(result,min_value)\n",
        "\n",
        "print(result)\n",
        "  \n",
        "\n",
        "\n"
      ],
      "execution_count": 6,
      "outputs": [
        {
          "output_type": "stream",
          "text": [
            "3 3\n",
            "3 1 2\n",
            "4 1 4\n",
            "2 2 2\n",
            "2\n"
          ],
          "name": "stdout"
        }
      ]
    },
    {
      "cell_type": "markdown",
      "metadata": {
        "id": "F4F2p5RCkCF4",
        "colab_type": "text"
      },
      "source": [
        "#그리디 #1이 될때까지\n",
        "p99\n"
      ]
    },
    {
      "cell_type": "code",
      "metadata": {
        "id": "j9tI7btHkHVk",
        "colab_type": "code",
        "colab": {
          "base_uri": "https://localhost:8080/",
          "height": 53
        },
        "outputId": "a549db88-8221-49e3-9021-0302a9c2c990"
      },
      "source": [
        "#n이 k로 나누어 떨어지는 수가 될때까지 뺀다음 수행\n",
        "n,k = map(int,input().split())\n",
        "result = 0\n",
        "\n",
        "while True:\n",
        "  target = (n//k) * k\n",
        "  result += (n-target)\n",
        "\n",
        "  n = target\n",
        "  if n < k:\n",
        "    break\n",
        "  result+=1\n",
        "  n //=k\n",
        "\n",
        "result+=(n-1) #마지막 남은수에 대하여 1씩 빼기\n",
        "print(result)\n"
      ],
      "execution_count": 11,
      "outputs": [
        {
          "output_type": "stream",
          "text": [
            "25 5\n",
            "2\n"
          ],
          "name": "stdout"
        }
      ]
    },
    {
      "cell_type": "markdown",
      "metadata": {
        "id": "EyWtxJDFpanA",
        "colab_type": "text"
      },
      "source": [
        "# **2. 구현**\n",
        "itertools\n",
        "\n",
        "완전탐색 - 모든 경우의 수를 주저없이 다 계산하는 해결방법\n",
        "시뮬레이션 - 문제에서 제시한 알고리즘을 한단계씩 차례대로 직접 수행\n",
        "\n",
        "파이썬은 다른 언어에 비해서 구현상의 복잡함이 적은 편이지만 데이터 처리량이 많을때는 꼭 메모리 제한을 고려하자. 리스트를 여러개 선언하고 그중에서 크기가 1000만 이상인 리스트가 있다면 메모리 용량 제한으로 문제를 풀수 없게 되는 경우도 있다는 점 기억\n"
      ]
    },
    {
      "cell_type": "markdown",
      "metadata": {
        "id": "Ym4J859RJqES",
        "colab_type": "text"
      },
      "source": [
        "#구현 #상하좌우"
      ]
    },
    {
      "cell_type": "code",
      "metadata": {
        "id": "xDBGWUM4JpOo",
        "colab_type": "code",
        "colab": {
          "base_uri": "https://localhost:8080/",
          "height": 71
        },
        "outputId": "df51b45e-4aa5-4f52-ca3d-233a7a550cc3"
      },
      "source": [
        "n = int(input())\n",
        "xy = [1,1]\n",
        "data = list(input().split())\n",
        "for a in data:\n",
        "  if a =='R':\n",
        "    if xy[1]+1 < n:\n",
        "      xy[1] +=1\n",
        "  elif a== 'L':\n",
        "    if xy[1]-1 > 0 :\n",
        "      xy[1] -=1\n",
        "  elif a =='D':\n",
        "    if xy[0]+1 < n:\n",
        "      xy[0] +=1\n",
        "  elif a== 'U':\n",
        "    if xy[0]-1 > 0 :\n",
        "      xy[0] -=1\n",
        "\n",
        "print(xy[0],xy[1])\n",
        "\n"
      ],
      "execution_count": 15,
      "outputs": [
        {
          "output_type": "stream",
          "text": [
            "5\n",
            "R R R U D D\n",
            "3 4\n"
          ],
          "name": "stdout"
        }
      ]
    },
    {
      "cell_type": "markdown",
      "metadata": {
        "id": "-B6SBWlpMTjZ",
        "colab_type": "text"
      },
      "source": [
        "#구현 #시각"
      ]
    },
    {
      "cell_type": "code",
      "metadata": {
        "id": "34WO7VNSMWKm",
        "colab_type": "code",
        "colab": {
          "base_uri": "https://localhost:8080/",
          "height": 53
        },
        "outputId": "a6577fc5-14be-412e-b1b6-69325d451d75"
      },
      "source": [
        "n = int(input())\n",
        "count = 0\n",
        "for i in range(0,n+1):\n",
        "  for j in range(0,60):\n",
        "    for k in range(0,60):\n",
        "      if '3' in (str(i)+str(j)+str(k)):\n",
        "        count+=1\n",
        "\n",
        "print(count)"
      ],
      "execution_count": 19,
      "outputs": [
        {
          "output_type": "stream",
          "text": [
            "5\n",
            "11475\n"
          ],
          "name": "stdout"
        }
      ]
    },
    {
      "cell_type": "markdown",
      "metadata": {
        "id": "RWJRuecgNPsm",
        "colab_type": "text"
      },
      "source": [
        "#구현 #왕실의나이트"
      ]
    },
    {
      "cell_type": "code",
      "metadata": {
        "id": "GKYwNFeCNR-k",
        "colab_type": "code",
        "colab": {
          "base_uri": "https://localhost:8080/",
          "height": 53
        },
        "outputId": "c906554c-79e3-4308-b95f-ba4e9d649950"
      },
      "source": [
        "data = input()\n",
        "x_value = ['a','b','c','d','e','f','g','h']\n",
        "x = x_value.index(data[0])+1\n",
        "y = int(data[1])\n",
        "\n",
        "dx = [-1,1,2,2,1,-1,-2,-2]\n",
        "dy = [-2,-2,-1,1,2,2,1,-1]\n",
        "count = 0\n",
        "for i in range(8):\n",
        "  nx = x + dx[i]\n",
        "  ny = y + dy[i]\n",
        "  if nx > 0 and nx < 9 and ny > 0 and ny < 9 :\n",
        "    count+=1\n",
        "\n",
        "print(count)"
      ],
      "execution_count": 21,
      "outputs": [
        {
          "output_type": "stream",
          "text": [
            "a1\n",
            "2\n"
          ],
          "name": "stdout"
        }
      ]
    },
    {
      "cell_type": "markdown",
      "metadata": {
        "id": "IcP8dqt7NRgX",
        "colab_type": "text"
      },
      "source": [
        "#구현 #게임개발"
      ]
    },
    {
      "cell_type": "code",
      "metadata": {
        "id": "WmBLVjkERDhX",
        "colab_type": "code",
        "colab": {
          "base_uri": "https://localhost:8080/",
          "height": 143
        },
        "outputId": "9e108398-a005-4a1c-943a-719ddc7d5a4b"
      },
      "source": [
        "n,m = map(int,input().split())\n",
        "#방문한 위치를 저장하기 위한 맵을 생성하여 0으로 초기화\n",
        "d = [[0]*m for _ in range(n)]\n",
        "x,y,direction = map(int,input().split())\n",
        "#처음 위치 처리\n",
        "d[x][y] = 1\n",
        "\n",
        "array = []\n",
        "for _ in range(m):\n",
        "  array.append(list(map(int,input().split())))\n",
        "\n",
        "dx = [0,+1,0,-1]\n",
        "dy = [-1,0,+1,0]\n",
        "#왼쪽으로 회전\n",
        "def turn_left():\n",
        "  global direction\n",
        "  direction -=1\n",
        "  if direction == -1:\n",
        "    direction = 3\n",
        "\n",
        "#시뮬레이션 시작\n",
        "count = 1\n",
        "turn_time = 0\n",
        "while True:\n",
        "  #왼쪽으로 회전\n",
        "  turn_left()\n",
        "  nx = x + dx[direction]\n",
        "  ny = y + dy[direction]\n",
        "  #회전후 가보지 않은곳이면\n",
        "  if d[nx][ny] == 0 and array[nx][ny] ==0:\n",
        "    d[nx][ny] = 1\n",
        "    x = nx\n",
        "    y = ny\n",
        "    count+=1\n",
        "    turn_time = 0\n",
        "    continue\n",
        "  #회전한 후 바다이거나 갈수 없는곳\n",
        "  else:\n",
        "    turn_time+=1\n",
        "  #네방향 모두 갈 수 없는경우\n",
        "  if turn_time == 4:\n",
        "    nx = x-dx[direction]\n",
        "    ny = y-dy[direction]\n",
        "    #뒤로 갈수 있다면 이동하기\n",
        "    if array[nx][ny] ==0:\n",
        "      x = nx\n",
        "      y = ny\n",
        "    #뒤가 바다로 막혀있는경우\n",
        "    else:\n",
        "      break\n",
        "    turn_time = 0\n",
        "\n",
        "print(count)\n",
        "    "
      ],
      "execution_count": 24,
      "outputs": [
        {
          "output_type": "stream",
          "text": [
            "4 4\n",
            "1 1 0\n",
            "1 1 1 1\n",
            "1 0 0 1\n",
            "1 1 0 1\n",
            "1 1 1 1\n",
            "3\n"
          ],
          "name": "stdout"
        }
      ]
    },
    {
      "cell_type": "markdown",
      "metadata": {
        "id": "CPD14UlrcmWp",
        "colab_type": "text"
      },
      "source": [
        "# **3. DFS/BFS**\n",
        "\n",
        "**꼭 필요한 자료 구조 기초**\n",
        "\n",
        "**탐색** - 많은양의 데이터중에서 원하는 데이터를 찾는 과정(그래프,트리)\n",
        "**자료구조** - '데이터를 포현하고 관리하고 처리하기 위한 구조' 스택/ 큐(pop / push)\n",
        "\n",
        "Stack 스택 -> 선입후출 구조 또는 후입 선출 구조\n"
      ]
    },
    {
      "cell_type": "markdown",
      "metadata": {
        "id": "2B3XfeyDdfLN",
        "colab_type": "text"
      },
      "source": [
        "**Stack 스택 -> 선입후출 구조 또는 후입 선출 구조**"
      ]
    },
    {
      "cell_type": "code",
      "metadata": {
        "id": "pfrk97eSdjIr",
        "colab_type": "code",
        "colab": {
          "base_uri": "https://localhost:8080/",
          "height": 53
        },
        "outputId": "4cc8994b-6482-4c61-fefd-f469141dd02f"
      },
      "source": [
        "stack = []\n",
        "stack.append(5)\n",
        "stack.append(2)\n",
        "stack.append(3)\n",
        "stack.append(7)\n",
        "stack.pop()\n",
        "stack.append(1)\n",
        "stack.append(4)\n",
        "stack.pop()\n",
        "print(stack)\n",
        "print(stack[::-1])"
      ],
      "execution_count": 25,
      "outputs": [
        {
          "output_type": "stream",
          "text": [
            "[5, 2, 3, 1]\n",
            "[1, 3, 2, 5]\n"
          ],
          "name": "stdout"
        }
      ]
    },
    {
      "cell_type": "markdown",
      "metadata": {
        "id": "ZZbaHgWNdxpj",
        "colab_type": "text"
      },
      "source": [
        "**Queue 큐 - 선입선출**"
      ]
    },
    {
      "cell_type": "code",
      "metadata": {
        "id": "kFIOmIk6d2w5",
        "colab_type": "code",
        "colab": {
          "base_uri": "https://localhost:8080/",
          "height": 53
        },
        "outputId": "8d524872-db61-4471-cb4a-9828299ffc0c"
      },
      "source": [
        "from collections import deque\n",
        "\n",
        "queue = deque()\n",
        "\n",
        "queue.append(5)\n",
        "queue.append(2)\n",
        "queue.append(3)\n",
        "queue.append(7)\n",
        "queue.popleft()\n",
        "queue.append(1)\n",
        "queue.append(4)\n",
        "queue.popleft()\n",
        "\n",
        "print(queue)\n",
        "queue.reverse()\n",
        "print(queue)"
      ],
      "execution_count": 26,
      "outputs": [
        {
          "output_type": "stream",
          "text": [
            "deque([3, 7, 1, 4])\n",
            "deque([4, 1, 7, 3])\n"
          ],
          "name": "stdout"
        }
      ]
    },
    {
      "cell_type": "markdown",
      "metadata": {
        "id": "lIsz-JC6ePVh",
        "colab_type": "text"
      },
      "source": [
        "**재귀함수 - 자기자신을 다시 호출하는 함수**"
      ]
    },
    {
      "cell_type": "code",
      "metadata": {
        "id": "Dj9NVFfFeStg",
        "colab_type": "code",
        "colab": {
          "base_uri": "https://localhost:8080/",
          "height": 1000
        },
        "outputId": "965cba68-12f0-4c35-9463-e98b02ff18b9"
      },
      "source": [
        "#재귀함수 종료 예제\n",
        "def recurcive_function(i):\n",
        "  #100번째 출력했을때 종료하도록 조건 명시\n",
        "  if i == 100:\n",
        "    return\n",
        "  print(i,'번째 재귀함수에서',i+1,'번째 재귀함수를 호출합니다.')\n",
        "  recurcive_function(i+1)\n",
        "  print(i,'번째 재귀함수를 종료합니다.')\n",
        "\n",
        "recurcive_function(1)"
      ],
      "execution_count": 30,
      "outputs": [
        {
          "output_type": "stream",
          "text": [
            "1 번째 재귀함수에서 2 번째 재귀함수를 호출합니다.\n",
            "2 번째 재귀함수에서 3 번째 재귀함수를 호출합니다.\n",
            "3 번째 재귀함수에서 4 번째 재귀함수를 호출합니다.\n",
            "4 번째 재귀함수에서 5 번째 재귀함수를 호출합니다.\n",
            "5 번째 재귀함수에서 6 번째 재귀함수를 호출합니다.\n",
            "6 번째 재귀함수에서 7 번째 재귀함수를 호출합니다.\n",
            "7 번째 재귀함수에서 8 번째 재귀함수를 호출합니다.\n",
            "8 번째 재귀함수에서 9 번째 재귀함수를 호출합니다.\n",
            "9 번째 재귀함수에서 10 번째 재귀함수를 호출합니다.\n",
            "10 번째 재귀함수에서 11 번째 재귀함수를 호출합니다.\n",
            "11 번째 재귀함수에서 12 번째 재귀함수를 호출합니다.\n",
            "12 번째 재귀함수에서 13 번째 재귀함수를 호출합니다.\n",
            "13 번째 재귀함수에서 14 번째 재귀함수를 호출합니다.\n",
            "14 번째 재귀함수에서 15 번째 재귀함수를 호출합니다.\n",
            "15 번째 재귀함수에서 16 번째 재귀함수를 호출합니다.\n",
            "16 번째 재귀함수에서 17 번째 재귀함수를 호출합니다.\n",
            "17 번째 재귀함수에서 18 번째 재귀함수를 호출합니다.\n",
            "18 번째 재귀함수에서 19 번째 재귀함수를 호출합니다.\n",
            "19 번째 재귀함수에서 20 번째 재귀함수를 호출합니다.\n",
            "20 번째 재귀함수에서 21 번째 재귀함수를 호출합니다.\n",
            "21 번째 재귀함수에서 22 번째 재귀함수를 호출합니다.\n",
            "22 번째 재귀함수에서 23 번째 재귀함수를 호출합니다.\n",
            "23 번째 재귀함수에서 24 번째 재귀함수를 호출합니다.\n",
            "24 번째 재귀함수에서 25 번째 재귀함수를 호출합니다.\n",
            "25 번째 재귀함수에서 26 번째 재귀함수를 호출합니다.\n",
            "26 번째 재귀함수에서 27 번째 재귀함수를 호출합니다.\n",
            "27 번째 재귀함수에서 28 번째 재귀함수를 호출합니다.\n",
            "28 번째 재귀함수에서 29 번째 재귀함수를 호출합니다.\n",
            "29 번째 재귀함수에서 30 번째 재귀함수를 호출합니다.\n",
            "30 번째 재귀함수에서 31 번째 재귀함수를 호출합니다.\n",
            "31 번째 재귀함수에서 32 번째 재귀함수를 호출합니다.\n",
            "32 번째 재귀함수에서 33 번째 재귀함수를 호출합니다.\n",
            "33 번째 재귀함수에서 34 번째 재귀함수를 호출합니다.\n",
            "34 번째 재귀함수에서 35 번째 재귀함수를 호출합니다.\n",
            "35 번째 재귀함수에서 36 번째 재귀함수를 호출합니다.\n",
            "36 번째 재귀함수에서 37 번째 재귀함수를 호출합니다.\n",
            "37 번째 재귀함수에서 38 번째 재귀함수를 호출합니다.\n",
            "38 번째 재귀함수에서 39 번째 재귀함수를 호출합니다.\n",
            "39 번째 재귀함수에서 40 번째 재귀함수를 호출합니다.\n",
            "40 번째 재귀함수에서 41 번째 재귀함수를 호출합니다.\n",
            "41 번째 재귀함수에서 42 번째 재귀함수를 호출합니다.\n",
            "42 번째 재귀함수에서 43 번째 재귀함수를 호출합니다.\n",
            "43 번째 재귀함수에서 44 번째 재귀함수를 호출합니다.\n",
            "44 번째 재귀함수에서 45 번째 재귀함수를 호출합니다.\n",
            "45 번째 재귀함수에서 46 번째 재귀함수를 호출합니다.\n",
            "46 번째 재귀함수에서 47 번째 재귀함수를 호출합니다.\n",
            "47 번째 재귀함수에서 48 번째 재귀함수를 호출합니다.\n",
            "48 번째 재귀함수에서 49 번째 재귀함수를 호출합니다.\n",
            "49 번째 재귀함수에서 50 번째 재귀함수를 호출합니다.\n",
            "50 번째 재귀함수에서 51 번째 재귀함수를 호출합니다.\n",
            "51 번째 재귀함수에서 52 번째 재귀함수를 호출합니다.\n",
            "52 번째 재귀함수에서 53 번째 재귀함수를 호출합니다.\n",
            "53 번째 재귀함수에서 54 번째 재귀함수를 호출합니다.\n",
            "54 번째 재귀함수에서 55 번째 재귀함수를 호출합니다.\n",
            "55 번째 재귀함수에서 56 번째 재귀함수를 호출합니다.\n",
            "56 번째 재귀함수에서 57 번째 재귀함수를 호출합니다.\n",
            "57 번째 재귀함수에서 58 번째 재귀함수를 호출합니다.\n",
            "58 번째 재귀함수에서 59 번째 재귀함수를 호출합니다.\n",
            "59 번째 재귀함수에서 60 번째 재귀함수를 호출합니다.\n",
            "60 번째 재귀함수에서 61 번째 재귀함수를 호출합니다.\n",
            "61 번째 재귀함수에서 62 번째 재귀함수를 호출합니다.\n",
            "62 번째 재귀함수에서 63 번째 재귀함수를 호출합니다.\n",
            "63 번째 재귀함수에서 64 번째 재귀함수를 호출합니다.\n",
            "64 번째 재귀함수에서 65 번째 재귀함수를 호출합니다.\n",
            "65 번째 재귀함수에서 66 번째 재귀함수를 호출합니다.\n",
            "66 번째 재귀함수에서 67 번째 재귀함수를 호출합니다.\n",
            "67 번째 재귀함수에서 68 번째 재귀함수를 호출합니다.\n",
            "68 번째 재귀함수에서 69 번째 재귀함수를 호출합니다.\n",
            "69 번째 재귀함수에서 70 번째 재귀함수를 호출합니다.\n",
            "70 번째 재귀함수에서 71 번째 재귀함수를 호출합니다.\n",
            "71 번째 재귀함수에서 72 번째 재귀함수를 호출합니다.\n",
            "72 번째 재귀함수에서 73 번째 재귀함수를 호출합니다.\n",
            "73 번째 재귀함수에서 74 번째 재귀함수를 호출합니다.\n",
            "74 번째 재귀함수에서 75 번째 재귀함수를 호출합니다.\n",
            "75 번째 재귀함수에서 76 번째 재귀함수를 호출합니다.\n",
            "76 번째 재귀함수에서 77 번째 재귀함수를 호출합니다.\n",
            "77 번째 재귀함수에서 78 번째 재귀함수를 호출합니다.\n",
            "78 번째 재귀함수에서 79 번째 재귀함수를 호출합니다.\n",
            "79 번째 재귀함수에서 80 번째 재귀함수를 호출합니다.\n",
            "80 번째 재귀함수에서 81 번째 재귀함수를 호출합니다.\n",
            "81 번째 재귀함수에서 82 번째 재귀함수를 호출합니다.\n",
            "82 번째 재귀함수에서 83 번째 재귀함수를 호출합니다.\n",
            "83 번째 재귀함수에서 84 번째 재귀함수를 호출합니다.\n",
            "84 번째 재귀함수에서 85 번째 재귀함수를 호출합니다.\n",
            "85 번째 재귀함수에서 86 번째 재귀함수를 호출합니다.\n",
            "86 번째 재귀함수에서 87 번째 재귀함수를 호출합니다.\n",
            "87 번째 재귀함수에서 88 번째 재귀함수를 호출합니다.\n",
            "88 번째 재귀함수에서 89 번째 재귀함수를 호출합니다.\n",
            "89 번째 재귀함수에서 90 번째 재귀함수를 호출합니다.\n",
            "90 번째 재귀함수에서 91 번째 재귀함수를 호출합니다.\n",
            "91 번째 재귀함수에서 92 번째 재귀함수를 호출합니다.\n",
            "92 번째 재귀함수에서 93 번째 재귀함수를 호출합니다.\n",
            "93 번째 재귀함수에서 94 번째 재귀함수를 호출합니다.\n",
            "94 번째 재귀함수에서 95 번째 재귀함수를 호출합니다.\n",
            "95 번째 재귀함수에서 96 번째 재귀함수를 호출합니다.\n",
            "96 번째 재귀함수에서 97 번째 재귀함수를 호출합니다.\n",
            "97 번째 재귀함수에서 98 번째 재귀함수를 호출합니다.\n",
            "98 번째 재귀함수에서 99 번째 재귀함수를 호출합니다.\n",
            "99 번째 재귀함수에서 100 번째 재귀함수를 호출합니다.\n",
            "99 번째 재귀함수를 종료합니다.\n",
            "98 번째 재귀함수를 종료합니다.\n",
            "97 번째 재귀함수를 종료합니다.\n",
            "96 번째 재귀함수를 종료합니다.\n",
            "95 번째 재귀함수를 종료합니다.\n",
            "94 번째 재귀함수를 종료합니다.\n",
            "93 번째 재귀함수를 종료합니다.\n",
            "92 번째 재귀함수를 종료합니다.\n",
            "91 번째 재귀함수를 종료합니다.\n",
            "90 번째 재귀함수를 종료합니다.\n",
            "89 번째 재귀함수를 종료합니다.\n",
            "88 번째 재귀함수를 종료합니다.\n",
            "87 번째 재귀함수를 종료합니다.\n",
            "86 번째 재귀함수를 종료합니다.\n",
            "85 번째 재귀함수를 종료합니다.\n",
            "84 번째 재귀함수를 종료합니다.\n",
            "83 번째 재귀함수를 종료합니다.\n",
            "82 번째 재귀함수를 종료합니다.\n",
            "81 번째 재귀함수를 종료합니다.\n",
            "80 번째 재귀함수를 종료합니다.\n",
            "79 번째 재귀함수를 종료합니다.\n",
            "78 번째 재귀함수를 종료합니다.\n",
            "77 번째 재귀함수를 종료합니다.\n",
            "76 번째 재귀함수를 종료합니다.\n",
            "75 번째 재귀함수를 종료합니다.\n",
            "74 번째 재귀함수를 종료합니다.\n",
            "73 번째 재귀함수를 종료합니다.\n",
            "72 번째 재귀함수를 종료합니다.\n",
            "71 번째 재귀함수를 종료합니다.\n",
            "70 번째 재귀함수를 종료합니다.\n",
            "69 번째 재귀함수를 종료합니다.\n",
            "68 번째 재귀함수를 종료합니다.\n",
            "67 번째 재귀함수를 종료합니다.\n",
            "66 번째 재귀함수를 종료합니다.\n",
            "65 번째 재귀함수를 종료합니다.\n",
            "64 번째 재귀함수를 종료합니다.\n",
            "63 번째 재귀함수를 종료합니다.\n",
            "62 번째 재귀함수를 종료합니다.\n",
            "61 번째 재귀함수를 종료합니다.\n",
            "60 번째 재귀함수를 종료합니다.\n",
            "59 번째 재귀함수를 종료합니다.\n",
            "58 번째 재귀함수를 종료합니다.\n",
            "57 번째 재귀함수를 종료합니다.\n",
            "56 번째 재귀함수를 종료합니다.\n",
            "55 번째 재귀함수를 종료합니다.\n",
            "54 번째 재귀함수를 종료합니다.\n",
            "53 번째 재귀함수를 종료합니다.\n",
            "52 번째 재귀함수를 종료합니다.\n",
            "51 번째 재귀함수를 종료합니다.\n",
            "50 번째 재귀함수를 종료합니다.\n",
            "49 번째 재귀함수를 종료합니다.\n",
            "48 번째 재귀함수를 종료합니다.\n",
            "47 번째 재귀함수를 종료합니다.\n",
            "46 번째 재귀함수를 종료합니다.\n",
            "45 번째 재귀함수를 종료합니다.\n",
            "44 번째 재귀함수를 종료합니다.\n",
            "43 번째 재귀함수를 종료합니다.\n",
            "42 번째 재귀함수를 종료합니다.\n",
            "41 번째 재귀함수를 종료합니다.\n",
            "40 번째 재귀함수를 종료합니다.\n",
            "39 번째 재귀함수를 종료합니다.\n",
            "38 번째 재귀함수를 종료합니다.\n",
            "37 번째 재귀함수를 종료합니다.\n",
            "36 번째 재귀함수를 종료합니다.\n",
            "35 번째 재귀함수를 종료합니다.\n",
            "34 번째 재귀함수를 종료합니다.\n",
            "33 번째 재귀함수를 종료합니다.\n",
            "32 번째 재귀함수를 종료합니다.\n",
            "31 번째 재귀함수를 종료합니다.\n",
            "30 번째 재귀함수를 종료합니다.\n",
            "29 번째 재귀함수를 종료합니다.\n",
            "28 번째 재귀함수를 종료합니다.\n",
            "27 번째 재귀함수를 종료합니다.\n",
            "26 번째 재귀함수를 종료합니다.\n",
            "25 번째 재귀함수를 종료합니다.\n",
            "24 번째 재귀함수를 종료합니다.\n",
            "23 번째 재귀함수를 종료합니다.\n",
            "22 번째 재귀함수를 종료합니다.\n",
            "21 번째 재귀함수를 종료합니다.\n",
            "20 번째 재귀함수를 종료합니다.\n",
            "19 번째 재귀함수를 종료합니다.\n",
            "18 번째 재귀함수를 종료합니다.\n",
            "17 번째 재귀함수를 종료합니다.\n",
            "16 번째 재귀함수를 종료합니다.\n",
            "15 번째 재귀함수를 종료합니다.\n",
            "14 번째 재귀함수를 종료합니다.\n",
            "13 번째 재귀함수를 종료합니다.\n",
            "12 번째 재귀함수를 종료합니다.\n",
            "11 번째 재귀함수를 종료합니다.\n",
            "10 번째 재귀함수를 종료합니다.\n",
            "9 번째 재귀함수를 종료합니다.\n",
            "8 번째 재귀함수를 종료합니다.\n",
            "7 번째 재귀함수를 종료합니다.\n",
            "6 번째 재귀함수를 종료합니다.\n",
            "5 번째 재귀함수를 종료합니다.\n",
            "4 번째 재귀함수를 종료합니다.\n",
            "3 번째 재귀함수를 종료합니다.\n",
            "2 번째 재귀함수를 종료합니다.\n",
            "1 번째 재귀함수를 종료합니다.\n"
          ],
          "name": "stdout"
        }
      ]
    },
    {
      "cell_type": "code",
      "metadata": {
        "id": "WlwZ76cMipoz",
        "colab_type": "code",
        "colab": {
          "base_uri": "https://localhost:8080/",
          "height": 53
        },
        "outputId": "a14155af-8c55-4ec8-a3d6-f0e721268f4b"
      },
      "source": [
        "#2가지 방식 팩토리얼\n",
        "def factorial_iterative(n):\n",
        "  result = 1\n",
        "  for i in range(1,n+1):\n",
        "    result *= i\n",
        "  return result\n",
        "\n",
        "def factorial_recursive(n):\n",
        "  if n<= 1:\n",
        "    return 1\n",
        "  return n * factorial_recursive(n-1)\n",
        "\n",
        "print('반복적으로 재귀 구현 ',factorial_iterative(5))\n",
        "print('재귀적으로 재귀 구현 ',factorial_recursive(5))\n",
        "  \n",
        "#재귀 사용시 점화식을 그대로 소스코드로 옮길 수 있다    "
      ],
      "execution_count": 31,
      "outputs": [
        {
          "output_type": "stream",
          "text": [
            "반복적으로 재귀 구현  120\n",
            "재귀적으로 재귀 구현  120\n"
          ],
          "name": "stdout"
        }
      ]
    },
    {
      "cell_type": "markdown",
      "metadata": {
        "id": "MGGjau_pjgfd",
        "colab_type": "text"
      },
      "source": [
        "#DFS \n",
        "- 깊이 우선 탐색이라고도 부르며, 그래프에서 깊은 부분을 우선적으로 탐색하는 알고리즘이다.\n",
        "\n",
        " 동작과정\n",
        " 1. 탐색 시장 노드를 스택에 삽입하고 방문처리를 한다\n",
        " 2. 스택의 최상단 노드에 방문하지 않은 인접 노드가 있으면 그 인접노드를 스택에 넣고 방문처리를 한다. 방문하지 않은 인접노드가 없으면 스택에서 최상단 노드를 꺼낸다.\n",
        " 3. 2번과정을 더이상 수행할 수 없을때까지 반복한다.\n",
        " tip. '방문처리'는 스택에 한번 삽입되어 처리된 노드가 다시 삽입되지 않게 체크하는 것을 의미한다. 방문처리를 함으로써 각 노드를 한 번씩만 처리할 수 있다.\n",
        "\n",
        "#인접행렬 / 인접리스트를 알아야 한다"
      ]
    },
    {
      "cell_type": "code",
      "metadata": {
        "id": "xGvf5jVdk4V3",
        "colab_type": "code",
        "colab": {
          "base_uri": "https://localhost:8080/",
          "height": 53
        },
        "outputId": "1eae512c-cec8-4167-b8be-0b4ae3f1a345"
      },
      "source": [
        "#인접행렬\n",
        "INF = int(1e9)\n",
        "matrix = [\n",
        "         [0,7,5],\n",
        "         [7,0,INF],\n",
        "         [5,INF,0]\n",
        "]\n",
        "print('인접행렬', matrix)\n",
        "\n",
        "#인접 리스트\n",
        "graph = [[] for _ in range(3)]\n",
        "graph[0].append((1,7)) #0번 노드가 1번노드와 연결되는데 거리가 3인거임\n",
        "graph[0].append((2,5))\n",
        "\n",
        "graph[1].append((0,7))\n",
        "\n",
        "graph[2].append((0,5))\n",
        "\n",
        "print('인접리스트',graph)\n",
        "#p136866666666666666666666666666666666666633................\n",
        "#두 방식의 차이점-> 메모리측면에서 보면 인접행렬방식은 모든 관계를 저장하기 때문에 노드 개수가많을 수록 메모리가 불필요하게 낭비된다.\n",
        "#반면 인접리스트 방식은 인접행렬방식에 비해 특정한 두 노드가 연결되어 있는지에 대한 정보를 얻는 속도가 느리다.\n",
        "#인접리스트 방식에서는 연결된 데이터를 하나씩 확인해야 하기 때문이다."
      ],
      "execution_count": 32,
      "outputs": [
        {
          "output_type": "stream",
          "text": [
            "인접행렬 [[0, 7, 5], [7, 0, 1000000000], [5, 1000000000, 0]]\n",
            "[[(1, 7), (2, 5)], [(0, 7)], [(0, 5)]]\n"
          ],
          "name": "stdout"
        }
      ]
    },
    {
      "cell_type": "code",
      "metadata": {
        "id": "1vVOk7n82RbN",
        "colab_type": "code",
        "colab": {}
      },
      "source": [
        "#DFS 예제\n",
        "def dfs(graph, v, visited):\n",
        "  #현재 노드를 방문처리\n",
        "  visited[v] = True\n",
        "  print(v,end=' ')\n",
        "  # 현재 노드와 연결된 다른 노드 재귀적 방문\n",
        "  for i in graph[v]:\n",
        "    if not visited[i]:\n",
        "      dfs(graph,i,visited)\n",
        "\n",
        "\n",
        "graph = [\n",
        "         [],\n",
        "         [2,3,8],\n",
        "         [1,7],\n",
        "         [1,4,5],\n",
        "         [3,5],\n",
        "         [3,4],\n",
        "         [7],\n",
        "         [2,6,8],\n",
        "         [1,7]\n",
        "]\n",
        "visited = [False] * 9\n",
        "dfs(graph,1,visited)"
      ],
      "execution_count": null,
      "outputs": []
    },
    {
      "cell_type": "markdown",
      "metadata": {
        "id": "SugJMZsM4SvN",
        "colab_type": "text"
      },
      "source": [
        "#BFS\n",
        "- 너비우선 탐색, 가까운 노드부터 탐색하는 알고리즘\n",
        "- 선입선출 방식인 큐 자료구조를 이용하는것이 정석\n",
        "\n",
        " 동작방식\n",
        "\n",
        " 1. 탐색 시작 노드를 큐에 삽입하고 방문 처리를 한다.\n",
        " 2. 큐에서 노드를 꺼내 해당 노드의 인접노드 중에서 방문하지 않은 노드를 모두 큐에 삽입하고 방문 처리를 한다.\n",
        " 3. 2번 과정을 더이상 수행할 수 없을때까지 반복한다."
      ]
    },
    {
      "cell_type": "code",
      "metadata": {
        "id": "a6sQmA325rmd",
        "colab_type": "code",
        "colab": {
          "base_uri": "https://localhost:8080/",
          "height": 35
        },
        "outputId": "ea9f884d-5aa4-4620-98d2-b3a19d5ef603"
      },
      "source": [
        "from collections import deque\n",
        "\n",
        "def bfs(graph,start,visited):\n",
        "  queue = deque([start])\n",
        "  #현재 노드 방문처리\n",
        "  visited[start] = True\n",
        "\n",
        "  while queue :\n",
        "    v = queue.popleft()\n",
        "    print(v, end=' ')\n",
        "    #해당 원소와 연결된 아직 방문하지 않은 원소들을 큐에 삽입\n",
        "    for i in graph[v]:\n",
        "      if not visited[i]:\n",
        "        queue.append(i)\n",
        "        visited[i] = True\n",
        "\n",
        "\n",
        "#리스트 자료형으로 표현(2차원 리스트)\n",
        "graph = [\n",
        "         [],\n",
        "         [2,3,8],\n",
        "         [1,7],\n",
        "         [1,4,5],\n",
        "         [3,5],\n",
        "         [3,4],\n",
        "         [7],\n",
        "         [2,6,8],\n",
        "         [1,7]\n",
        "]\n",
        "visited = [False] * 9\n",
        "bfs(graph,1,visited)"
      ],
      "execution_count": 34,
      "outputs": [
        {
          "output_type": "stream",
          "text": [
            "1 2 3 8 7 4 5 6 "
          ],
          "name": "stdout"
        }
      ]
    },
    {
      "cell_type": "markdown",
      "metadata": {
        "id": "FNvyC-718g8d",
        "colab_type": "text"
      },
      "source": [
        "#DFS #음료수얼려먹기\n",
        "p149\n"
      ]
    },
    {
      "cell_type": "code",
      "metadata": {
        "id": "0PPNmPIC58Dr",
        "colab_type": "code",
        "colab": {}
      },
      "source": [
        "#1. 특정한 지점의 주변 상,하,좌,우를 살펴본 뒤에 주변 지점 중에서 값이 '0'이면서 아직 방문하지 않은 지점이 있다면 해당 지점을 방문한다.\n",
        "#2. 방문한 지점에서 다시 상,하,좌,우를 살펴보면서 방문을 다시 진행하면, 연결된 모든 지점을 방문할 수 있다.\n",
        "#3. 1~2번의 과정을 모든 노드에 반복하며 방문하지 않은 지점의 수를 센다.\n",
        "\n",
        "n,m = map(int,input().split())\n",
        "graph = []\n",
        "for _ in range(n):\n",
        "  graph.append(list(map(int,input().split())))\n",
        "\n",
        "#DFS로 특정한 노드를 방문한 뒤에 연결된 모든 노드들도 방문\n",
        "def dfs(x,y):\n",
        "  #주어진 범위를 벗아나는 경우 바로 종료\n",
        "  if x <= -1 and x >= n and y <= -1 and y >= m:\n",
        "    return False\n",
        "  #현재 노드를 방문하지 않았다면\n",
        "  if graph[x][y] ==0:\n",
        "    #방문처리\n",
        "    graph[x][y] = 1\n",
        "    dfs(x-1,y)\n",
        "    dfs(x,y-1)\n",
        "    dfs(x+1,y)\n",
        "    dfs(x,y+1)\n",
        "    return True\n",
        "  return False\n",
        "    \n",
        "\n",
        "#모든 노드에 대하여 음료수 채우기\n",
        "result = 0\n",
        "for i in range(n):\n",
        "  for j in range(m):\n",
        "    #현재 위치에서 dfs 수행\n",
        "    if dfs(i,j) == True:\n",
        "      result+=1\n",
        "\n",
        "print(result)"
      ],
      "execution_count": null,
      "outputs": []
    },
    {
      "cell_type": "markdown",
      "metadata": {
        "id": "fTUkFV_BTYiB",
        "colab_type": "text"
      },
      "source": [
        "#BFS #미로탈출\n",
        "p152"
      ]
    },
    {
      "cell_type": "code",
      "metadata": {
        "id": "-6AwlgC2WH3C",
        "colab_type": "code",
        "colab": {}
      },
      "source": [
        "from collections import deque\n",
        "n,m = map(int,input().split())\n",
        "graph = []\n",
        "for _ in range(n):\n",
        "  graph.append(list(map(int,input().split())))\n",
        "dx = [-1,0,1,0]\n",
        "dy = [0,1,0,-1]\n",
        "def bfs(x,y):\n",
        "  queue = deque()\n",
        "  queue.append((x,y))\n",
        "  while queue:\n",
        "    x,y = queue.popleft()\n",
        "    #4방향 위치 확인\n",
        "    for i in range(4):\n",
        "      nx = x + dx[i]\n",
        "      ny = y + dy[i]\n",
        "      #벗어난 경우 무시\n",
        "      if nx < 0 and nx >= n and ny <0 and ny >=m:\n",
        "        continue\n",
        "      if graph[nx][ny] ==0 :\n",
        "        continue\n",
        "      if graph[nx][ny] ==1 :\n",
        "        graph[nx][ny] = graph[x][y] +1\n",
        "        queue.append((nx,ny))\n",
        "  return graph[n-1][m-1]\n",
        "\n",
        "print(bfs(0,0))\n"
      ],
      "execution_count": null,
      "outputs": []
    }
  ]
}