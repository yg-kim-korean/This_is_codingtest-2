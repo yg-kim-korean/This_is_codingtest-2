{
  "nbformat": 4,
  "nbformat_minor": 0,
  "metadata": {
    "colab": {
      "name": "이것이코딩이다2번째.ipynb",
      "provenance": [],
      "authorship_tag": "ABX9TyM4zb4s0A3GxP+6jxFjUkDR",
      "include_colab_link": true
    },
    "kernelspec": {
      "name": "python3",
      "display_name": "Python 3"
    }
  },
  "cells": [
    {
      "cell_type": "markdown",
      "metadata": {
        "id": "view-in-github",
        "colab_type": "text"
      },
      "source": [
        "<a href=\"https://colab.research.google.com/github/yg-kim-korean/This_is_codingtest-2/blob/master/%EC%9D%B4%EA%B2%83%EC%9D%B4%EC%BD%94%EB%94%A9%EC%9D%B4%EB%8B%A42%EB%B2%88%EC%A7%B8.ipynb\" target=\"_parent\"><img src=\"https://colab.research.google.com/assets/colab-badge.svg\" alt=\"Open In Colab\"/></a>"
      ]
    },
    {
      "cell_type": "markdown",
      "metadata": {
        "id": "rdXoUNrfOmKH",
        "colab_type": "text"
      },
      "source": [
        "# **1. Greedy 알고리즘**\n",
        "현재 상황에서 지금 당장 좋은것만 고르는 방법"
      ]
    },
    {
      "cell_type": "markdown",
      "metadata": {
        "id": "HopVdJsLOtUi",
        "colab_type": "text"
      },
      "source": [
        "#그리디 #큰수의 법칙\n",
        "p92\n",
        "\n"
      ]
    },
    {
      "cell_type": "code",
      "metadata": {
        "id": "IbJYZGNaOaCu",
        "colab_type": "code",
        "colab": {
          "base_uri": "https://localhost:8080/",
          "height": 71
        },
        "outputId": "d46b9546-05d7-45a4-b07b-c3b2401f4388"
      },
      "source": [
        "n,m,k = map(int,input().split())\n",
        "data = list(map(int,input().split()))\n",
        "\n",
        "data.sort()\n",
        "first = data[n-1]\n",
        "second = data[n-2]\n",
        "\n",
        "result = 0\n",
        "\n",
        "while True:\n",
        "  for i in range(k):\n",
        "    if m == 0 :\n",
        "      break\n",
        "    result+=first\n",
        "    m-=1\n",
        "  if m == 0 :\n",
        "    break\n",
        "  result+=second\n",
        "  m-=1\n",
        "\n",
        "print(result)\n"
      ],
      "execution_count": null,
      "outputs": [
        {
          "output_type": "stream",
          "text": [
            "5 8 3\n",
            "2 4 5 4 6\n",
            "46\n"
          ],
          "name": "stdout"
        }
      ]
    },
    {
      "cell_type": "code",
      "metadata": {
        "id": "UIVWL5evQZRY",
        "colab_type": "code",
        "colab": {
          "base_uri": "https://localhost:8080/",
          "height": 71
        },
        "outputId": "592f53c5-8695-4c4e-af51-0da97880800f"
      },
      "source": [
        "n,m,k = map(int,input().split())\n",
        "data = list(map(int,input().split()))\n",
        "\n",
        "data.sort()\n",
        "first = data[n-1]\n",
        "second = data[n-2]\n",
        "\n",
        "#가장 큰 수가 더해지는 횟수 계산\n",
        "count = int(m/(k+1)) * k\n",
        "count += m % (k+1)\n",
        "\n",
        "result = 0\n",
        "result += (count) * first\n",
        "result += (m-count) * second\n",
        "\n",
        "print(result)"
      ],
      "execution_count": null,
      "outputs": [
        {
          "output_type": "stream",
          "text": [
            "5 8 3\n",
            "2 4 5 4 6\n",
            "46\n"
          ],
          "name": "stdout"
        }
      ]
    },
    {
      "cell_type": "markdown",
      "metadata": {
        "id": "TwRm0s_AQarW",
        "colab_type": "text"
      },
      "source": [
        "#그리디 #숫자카드게임\n",
        "p96\n",
        "\n",
        "```\n",
        "# 코드로 형식 지정됨\n",
        "```\n",
        "\n",
        "\n"
      ]
    },
    {
      "cell_type": "code",
      "metadata": {
        "id": "7HO-5dLgg2-F",
        "colab_type": "code",
        "colab": {
          "base_uri": "https://localhost:8080/",
          "height": 107
        },
        "outputId": "d668ede2-36e5-4023-a906-20d9d360ebad"
      },
      "source": [
        "# min 함수 사용\n",
        "n,m = map(int,input().split())\n",
        "result = 0\n",
        "for i in range(n):\n",
        " data = list(map(int,input().split()))\n",
        " #현재줄에서 가장 작은수 찾기\n",
        " min_data = min(data)\n",
        " result = max(result,min_data)\n",
        "\n",
        "print(result)\n"
      ],
      "execution_count": null,
      "outputs": [
        {
          "output_type": "stream",
          "text": [
            "3 3\n",
            "3 1 2\n",
            "4 1 4\n",
            "2 2 2\n",
            "2\n"
          ],
          "name": "stdout"
        }
      ]
    },
    {
      "cell_type": "code",
      "metadata": {
        "id": "EU1iRE9GjRiW",
        "colab_type": "code",
        "colab": {
          "base_uri": "https://localhost:8080/",
          "height": 107
        },
        "outputId": "86896c91-5228-431f-8a71-9a1badcde6b0"
      },
      "source": [
        "# 이중 반복문 사용\n",
        "n,m = map(int,input().split())\n",
        "result = 0\n",
        "for i in range(n):\n",
        " data = list(map(int,input().split()))\n",
        " #가장 큰수가 10000 이므로\n",
        " min_value = 10001\n",
        " for a in data:\n",
        "   min_value = min(min_value,a)\n",
        " result = max(result,min_value)\n",
        "\n",
        "print(result)\n",
        "  \n",
        "\n",
        "\n"
      ],
      "execution_count": null,
      "outputs": [
        {
          "output_type": "stream",
          "text": [
            "3 3\n",
            "3 1 2\n",
            "4 1 4\n",
            "2 2 2\n",
            "2\n"
          ],
          "name": "stdout"
        }
      ]
    },
    {
      "cell_type": "markdown",
      "metadata": {
        "id": "F4F2p5RCkCF4",
        "colab_type": "text"
      },
      "source": [
        "#그리디 #1이 될때까지\n",
        "p99\n"
      ]
    },
    {
      "cell_type": "code",
      "metadata": {
        "id": "j9tI7btHkHVk",
        "colab_type": "code",
        "colab": {
          "base_uri": "https://localhost:8080/",
          "height": 53
        },
        "outputId": "a549db88-8221-49e3-9021-0302a9c2c990"
      },
      "source": [
        "#n이 k로 나누어 떨어지는 수가 될때까지 뺀다음 수행\n",
        "n,k = map(int,input().split())\n",
        "result = 0\n",
        "\n",
        "while True:\n",
        "  target = (n//k) * k\n",
        "  result += (n-target)\n",
        "\n",
        "  n = target\n",
        "  if n < k:\n",
        "    break\n",
        "  result+=1\n",
        "  n //=k\n",
        "\n",
        "result+=(n-1) #마지막 남은수에 대하여 1씩 빼기\n",
        "print(result)\n"
      ],
      "execution_count": null,
      "outputs": [
        {
          "output_type": "stream",
          "text": [
            "25 5\n",
            "2\n"
          ],
          "name": "stdout"
        }
      ]
    },
    {
      "cell_type": "markdown",
      "metadata": {
        "id": "EyWtxJDFpanA",
        "colab_type": "text"
      },
      "source": [
        "# **2. 구현**\n",
        "itertools\n",
        "\n",
        "완전탐색 - 모든 경우의 수를 주저없이 다 계산하는 해결방법\n",
        "시뮬레이션 - 문제에서 제시한 알고리즘을 한단계씩 차례대로 직접 수행\n",
        "\n",
        "파이썬은 다른 언어에 비해서 구현상의 복잡함이 적은 편이지만 데이터 처리량이 많을때는 꼭 메모리 제한을 고려하자. 리스트를 여러개 선언하고 그중에서 크기가 1000만 이상인 리스트가 있다면 메모리 용량 제한으로 문제를 풀수 없게 되는 경우도 있다는 점 기억\n"
      ]
    },
    {
      "cell_type": "markdown",
      "metadata": {
        "id": "Ym4J859RJqES",
        "colab_type": "text"
      },
      "source": [
        "#구현 #상하좌우"
      ]
    },
    {
      "cell_type": "code",
      "metadata": {
        "id": "xDBGWUM4JpOo",
        "colab_type": "code",
        "colab": {
          "base_uri": "https://localhost:8080/",
          "height": 71
        },
        "outputId": "df51b45e-4aa5-4f52-ca3d-233a7a550cc3"
      },
      "source": [
        "n = int(input())\n",
        "xy = [1,1]\n",
        "data = list(input().split())\n",
        "for a in data:\n",
        "  if a =='R':\n",
        "    if xy[1]+1 < n:\n",
        "      xy[1] +=1\n",
        "  elif a== 'L':\n",
        "    if xy[1]-1 > 0 :\n",
        "      xy[1] -=1\n",
        "  elif a =='D':\n",
        "    if xy[0]+1 < n:\n",
        "      xy[0] +=1\n",
        "  elif a== 'U':\n",
        "    if xy[0]-1 > 0 :\n",
        "      xy[0] -=1\n",
        "\n",
        "print(xy[0],xy[1])\n",
        "\n"
      ],
      "execution_count": null,
      "outputs": [
        {
          "output_type": "stream",
          "text": [
            "5\n",
            "R R R U D D\n",
            "3 4\n"
          ],
          "name": "stdout"
        }
      ]
    },
    {
      "cell_type": "markdown",
      "metadata": {
        "id": "-B6SBWlpMTjZ",
        "colab_type": "text"
      },
      "source": [
        "#구현 #시각"
      ]
    },
    {
      "cell_type": "code",
      "metadata": {
        "id": "34WO7VNSMWKm",
        "colab_type": "code",
        "colab": {
          "base_uri": "https://localhost:8080/",
          "height": 53
        },
        "outputId": "a6577fc5-14be-412e-b1b6-69325d451d75"
      },
      "source": [
        "n = int(input())\n",
        "count = 0\n",
        "for i in range(0,n+1):\n",
        "  for j in range(0,60):\n",
        "    for k in range(0,60):\n",
        "      if '3' in (str(i)+str(j)+str(k)):\n",
        "        count+=1\n",
        "\n",
        "print(count)"
      ],
      "execution_count": null,
      "outputs": [
        {
          "output_type": "stream",
          "text": [
            "5\n",
            "11475\n"
          ],
          "name": "stdout"
        }
      ]
    },
    {
      "cell_type": "markdown",
      "metadata": {
        "id": "RWJRuecgNPsm",
        "colab_type": "text"
      },
      "source": [
        "#구현 #왕실의나이트"
      ]
    },
    {
      "cell_type": "code",
      "metadata": {
        "id": "GKYwNFeCNR-k",
        "colab_type": "code",
        "colab": {
          "base_uri": "https://localhost:8080/",
          "height": 53
        },
        "outputId": "c906554c-79e3-4308-b95f-ba4e9d649950"
      },
      "source": [
        "data = input()\n",
        "x_value = ['a','b','c','d','e','f','g','h']\n",
        "x = x_value.index(data[0])+1\n",
        "y = int(data[1])\n",
        "\n",
        "dx = [-1,1,2,2,1,-1,-2,-2]\n",
        "dy = [-2,-2,-1,1,2,2,1,-1]\n",
        "count = 0\n",
        "for i in range(8):\n",
        "  nx = x + dx[i]\n",
        "  ny = y + dy[i]\n",
        "  if nx > 0 and nx < 9 and ny > 0 and ny < 9 :\n",
        "    count+=1\n",
        "\n",
        "print(count)"
      ],
      "execution_count": null,
      "outputs": [
        {
          "output_type": "stream",
          "text": [
            "a1\n",
            "2\n"
          ],
          "name": "stdout"
        }
      ]
    },
    {
      "cell_type": "markdown",
      "metadata": {
        "id": "IcP8dqt7NRgX",
        "colab_type": "text"
      },
      "source": [
        "#구현 #게임개발"
      ]
    },
    {
      "cell_type": "code",
      "metadata": {
        "id": "WmBLVjkERDhX",
        "colab_type": "code",
        "colab": {
          "base_uri": "https://localhost:8080/",
          "height": 143
        },
        "outputId": "9e108398-a005-4a1c-943a-719ddc7d5a4b"
      },
      "source": [
        "n,m = map(int,input().split())\n",
        "#방문한 위치를 저장하기 위한 맵을 생성하여 0으로 초기화\n",
        "d = [[0]*m for _ in range(n)]\n",
        "x,y,direction = map(int,input().split())\n",
        "#처음 위치 처리\n",
        "d[x][y] = 1\n",
        "\n",
        "array = []\n",
        "for _ in range(m):\n",
        "  array.append(list(map(int,input().split())))\n",
        "\n",
        "dx = [0,+1,0,-1]\n",
        "dy = [-1,0,+1,0]\n",
        "#왼쪽으로 회전\n",
        "def turn_left():\n",
        "  global direction\n",
        "  direction -=1\n",
        "  if direction == -1:\n",
        "    direction = 3\n",
        "\n",
        "#시뮬레이션 시작\n",
        "count = 1\n",
        "turn_time = 0\n",
        "while True:\n",
        "  #왼쪽으로 회전\n",
        "  turn_left()\n",
        "  nx = x + dx[direction]\n",
        "  ny = y + dy[direction]\n",
        "  #회전후 가보지 않은곳이면\n",
        "  if d[nx][ny] == 0 and array[nx][ny] ==0:\n",
        "    d[nx][ny] = 1\n",
        "    x = nx\n",
        "    y = ny\n",
        "    count+=1\n",
        "    turn_time = 0\n",
        "    continue\n",
        "  #회전한 후 바다이거나 갈수 없는곳\n",
        "  else:\n",
        "    turn_time+=1\n",
        "  #네방향 모두 갈 수 없는경우\n",
        "  if turn_time == 4:\n",
        "    nx = x-dx[direction]\n",
        "    ny = y-dy[direction]\n",
        "    #뒤로 갈수 있다면 이동하기\n",
        "    if array[nx][ny] ==0:\n",
        "      x = nx\n",
        "      y = ny\n",
        "    #뒤가 바다로 막혀있는경우\n",
        "    else:\n",
        "      break\n",
        "    turn_time = 0\n",
        "\n",
        "print(count)\n",
        "    "
      ],
      "execution_count": null,
      "outputs": [
        {
          "output_type": "stream",
          "text": [
            "4 4\n",
            "1 1 0\n",
            "1 1 1 1\n",
            "1 0 0 1\n",
            "1 1 0 1\n",
            "1 1 1 1\n",
            "3\n"
          ],
          "name": "stdout"
        }
      ]
    },
    {
      "cell_type": "markdown",
      "metadata": {
        "id": "CPD14UlrcmWp",
        "colab_type": "text"
      },
      "source": [
        "# **3. DFS/BFS**\n",
        "\n",
        "**꼭 필요한 자료 구조 기초**\n",
        "\n",
        "**탐색** - 많은양의 데이터중에서 원하는 데이터를 찾는 과정(그래프,트리)\n",
        "**자료구조** - '데이터를 포현하고 관리하고 처리하기 위한 구조' 스택/ 큐(pop / push)\n",
        "\n",
        "Stack 스택 -> 선입후출 구조 또는 후입 선출 구조\n"
      ]
    },
    {
      "cell_type": "markdown",
      "metadata": {
        "id": "2B3XfeyDdfLN",
        "colab_type": "text"
      },
      "source": [
        "**Stack 스택 -> 선입후출 구조 또는 후입 선출 구조**"
      ]
    },
    {
      "cell_type": "code",
      "metadata": {
        "id": "pfrk97eSdjIr",
        "colab_type": "code",
        "colab": {
          "base_uri": "https://localhost:8080/",
          "height": 53
        },
        "outputId": "4cc8994b-6482-4c61-fefd-f469141dd02f"
      },
      "source": [
        "stack = []\n",
        "stack.append(5)\n",
        "stack.append(2)\n",
        "stack.append(3)\n",
        "stack.append(7)\n",
        "stack.pop()\n",
        "stack.append(1)\n",
        "stack.append(4)\n",
        "stack.pop()\n",
        "print(stack)\n",
        "print(stack[::-1])"
      ],
      "execution_count": null,
      "outputs": [
        {
          "output_type": "stream",
          "text": [
            "[5, 2, 3, 1]\n",
            "[1, 3, 2, 5]\n"
          ],
          "name": "stdout"
        }
      ]
    },
    {
      "cell_type": "markdown",
      "metadata": {
        "id": "ZZbaHgWNdxpj",
        "colab_type": "text"
      },
      "source": [
        "**Queue 큐 - 선입선출**"
      ]
    },
    {
      "cell_type": "code",
      "metadata": {
        "id": "kFIOmIk6d2w5",
        "colab_type": "code",
        "colab": {
          "base_uri": "https://localhost:8080/",
          "height": 53
        },
        "outputId": "8d524872-db61-4471-cb4a-9828299ffc0c"
      },
      "source": [
        "from collections import deque\n",
        "\n",
        "queue = deque()\n",
        "\n",
        "queue.append(5)\n",
        "queue.append(2)\n",
        "queue.append(3)\n",
        "queue.append(7)\n",
        "queue.popleft()\n",
        "queue.append(1)\n",
        "queue.append(4)\n",
        "queue.popleft()\n",
        "\n",
        "print(queue)\n",
        "queue.reverse()\n",
        "print(queue)"
      ],
      "execution_count": null,
      "outputs": [
        {
          "output_type": "stream",
          "text": [
            "deque([3, 7, 1, 4])\n",
            "deque([4, 1, 7, 3])\n"
          ],
          "name": "stdout"
        }
      ]
    },
    {
      "cell_type": "markdown",
      "metadata": {
        "id": "lIsz-JC6ePVh",
        "colab_type": "text"
      },
      "source": [
        "**재귀함수 - 자기자신을 다시 호출하는 함수**"
      ]
    },
    {
      "cell_type": "code",
      "metadata": {
        "id": "Dj9NVFfFeStg",
        "colab_type": "code",
        "colab": {
          "base_uri": "https://localhost:8080/",
          "height": 1000
        },
        "outputId": "965cba68-12f0-4c35-9463-e98b02ff18b9"
      },
      "source": [
        "#재귀함수 종료 예제\n",
        "def recurcive_function(i):\n",
        "  #100번째 출력했을때 종료하도록 조건 명시\n",
        "  if i == 100:\n",
        "    return\n",
        "  print(i,'번째 재귀함수에서',i+1,'번째 재귀함수를 호출합니다.')\n",
        "  recurcive_function(i+1)\n",
        "  print(i,'번째 재귀함수를 종료합니다.')\n",
        "\n",
        "recurcive_function(1)"
      ],
      "execution_count": null,
      "outputs": [
        {
          "output_type": "stream",
          "text": [
            "1 번째 재귀함수에서 2 번째 재귀함수를 호출합니다.\n",
            "2 번째 재귀함수에서 3 번째 재귀함수를 호출합니다.\n",
            "3 번째 재귀함수에서 4 번째 재귀함수를 호출합니다.\n",
            "4 번째 재귀함수에서 5 번째 재귀함수를 호출합니다.\n",
            "5 번째 재귀함수에서 6 번째 재귀함수를 호출합니다.\n",
            "6 번째 재귀함수에서 7 번째 재귀함수를 호출합니다.\n",
            "7 번째 재귀함수에서 8 번째 재귀함수를 호출합니다.\n",
            "8 번째 재귀함수에서 9 번째 재귀함수를 호출합니다.\n",
            "9 번째 재귀함수에서 10 번째 재귀함수를 호출합니다.\n",
            "10 번째 재귀함수에서 11 번째 재귀함수를 호출합니다.\n",
            "11 번째 재귀함수에서 12 번째 재귀함수를 호출합니다.\n",
            "12 번째 재귀함수에서 13 번째 재귀함수를 호출합니다.\n",
            "13 번째 재귀함수에서 14 번째 재귀함수를 호출합니다.\n",
            "14 번째 재귀함수에서 15 번째 재귀함수를 호출합니다.\n",
            "15 번째 재귀함수에서 16 번째 재귀함수를 호출합니다.\n",
            "16 번째 재귀함수에서 17 번째 재귀함수를 호출합니다.\n",
            "17 번째 재귀함수에서 18 번째 재귀함수를 호출합니다.\n",
            "18 번째 재귀함수에서 19 번째 재귀함수를 호출합니다.\n",
            "19 번째 재귀함수에서 20 번째 재귀함수를 호출합니다.\n",
            "20 번째 재귀함수에서 21 번째 재귀함수를 호출합니다.\n",
            "21 번째 재귀함수에서 22 번째 재귀함수를 호출합니다.\n",
            "22 번째 재귀함수에서 23 번째 재귀함수를 호출합니다.\n",
            "23 번째 재귀함수에서 24 번째 재귀함수를 호출합니다.\n",
            "24 번째 재귀함수에서 25 번째 재귀함수를 호출합니다.\n",
            "25 번째 재귀함수에서 26 번째 재귀함수를 호출합니다.\n",
            "26 번째 재귀함수에서 27 번째 재귀함수를 호출합니다.\n",
            "27 번째 재귀함수에서 28 번째 재귀함수를 호출합니다.\n",
            "28 번째 재귀함수에서 29 번째 재귀함수를 호출합니다.\n",
            "29 번째 재귀함수에서 30 번째 재귀함수를 호출합니다.\n",
            "30 번째 재귀함수에서 31 번째 재귀함수를 호출합니다.\n",
            "31 번째 재귀함수에서 32 번째 재귀함수를 호출합니다.\n",
            "32 번째 재귀함수에서 33 번째 재귀함수를 호출합니다.\n",
            "33 번째 재귀함수에서 34 번째 재귀함수를 호출합니다.\n",
            "34 번째 재귀함수에서 35 번째 재귀함수를 호출합니다.\n",
            "35 번째 재귀함수에서 36 번째 재귀함수를 호출합니다.\n",
            "36 번째 재귀함수에서 37 번째 재귀함수를 호출합니다.\n",
            "37 번째 재귀함수에서 38 번째 재귀함수를 호출합니다.\n",
            "38 번째 재귀함수에서 39 번째 재귀함수를 호출합니다.\n",
            "39 번째 재귀함수에서 40 번째 재귀함수를 호출합니다.\n",
            "40 번째 재귀함수에서 41 번째 재귀함수를 호출합니다.\n",
            "41 번째 재귀함수에서 42 번째 재귀함수를 호출합니다.\n",
            "42 번째 재귀함수에서 43 번째 재귀함수를 호출합니다.\n",
            "43 번째 재귀함수에서 44 번째 재귀함수를 호출합니다.\n",
            "44 번째 재귀함수에서 45 번째 재귀함수를 호출합니다.\n",
            "45 번째 재귀함수에서 46 번째 재귀함수를 호출합니다.\n",
            "46 번째 재귀함수에서 47 번째 재귀함수를 호출합니다.\n",
            "47 번째 재귀함수에서 48 번째 재귀함수를 호출합니다.\n",
            "48 번째 재귀함수에서 49 번째 재귀함수를 호출합니다.\n",
            "49 번째 재귀함수에서 50 번째 재귀함수를 호출합니다.\n",
            "50 번째 재귀함수에서 51 번째 재귀함수를 호출합니다.\n",
            "51 번째 재귀함수에서 52 번째 재귀함수를 호출합니다.\n",
            "52 번째 재귀함수에서 53 번째 재귀함수를 호출합니다.\n",
            "53 번째 재귀함수에서 54 번째 재귀함수를 호출합니다.\n",
            "54 번째 재귀함수에서 55 번째 재귀함수를 호출합니다.\n",
            "55 번째 재귀함수에서 56 번째 재귀함수를 호출합니다.\n",
            "56 번째 재귀함수에서 57 번째 재귀함수를 호출합니다.\n",
            "57 번째 재귀함수에서 58 번째 재귀함수를 호출합니다.\n",
            "58 번째 재귀함수에서 59 번째 재귀함수를 호출합니다.\n",
            "59 번째 재귀함수에서 60 번째 재귀함수를 호출합니다.\n",
            "60 번째 재귀함수에서 61 번째 재귀함수를 호출합니다.\n",
            "61 번째 재귀함수에서 62 번째 재귀함수를 호출합니다.\n",
            "62 번째 재귀함수에서 63 번째 재귀함수를 호출합니다.\n",
            "63 번째 재귀함수에서 64 번째 재귀함수를 호출합니다.\n",
            "64 번째 재귀함수에서 65 번째 재귀함수를 호출합니다.\n",
            "65 번째 재귀함수에서 66 번째 재귀함수를 호출합니다.\n",
            "66 번째 재귀함수에서 67 번째 재귀함수를 호출합니다.\n",
            "67 번째 재귀함수에서 68 번째 재귀함수를 호출합니다.\n",
            "68 번째 재귀함수에서 69 번째 재귀함수를 호출합니다.\n",
            "69 번째 재귀함수에서 70 번째 재귀함수를 호출합니다.\n",
            "70 번째 재귀함수에서 71 번째 재귀함수를 호출합니다.\n",
            "71 번째 재귀함수에서 72 번째 재귀함수를 호출합니다.\n",
            "72 번째 재귀함수에서 73 번째 재귀함수를 호출합니다.\n",
            "73 번째 재귀함수에서 74 번째 재귀함수를 호출합니다.\n",
            "74 번째 재귀함수에서 75 번째 재귀함수를 호출합니다.\n",
            "75 번째 재귀함수에서 76 번째 재귀함수를 호출합니다.\n",
            "76 번째 재귀함수에서 77 번째 재귀함수를 호출합니다.\n",
            "77 번째 재귀함수에서 78 번째 재귀함수를 호출합니다.\n",
            "78 번째 재귀함수에서 79 번째 재귀함수를 호출합니다.\n",
            "79 번째 재귀함수에서 80 번째 재귀함수를 호출합니다.\n",
            "80 번째 재귀함수에서 81 번째 재귀함수를 호출합니다.\n",
            "81 번째 재귀함수에서 82 번째 재귀함수를 호출합니다.\n",
            "82 번째 재귀함수에서 83 번째 재귀함수를 호출합니다.\n",
            "83 번째 재귀함수에서 84 번째 재귀함수를 호출합니다.\n",
            "84 번째 재귀함수에서 85 번째 재귀함수를 호출합니다.\n",
            "85 번째 재귀함수에서 86 번째 재귀함수를 호출합니다.\n",
            "86 번째 재귀함수에서 87 번째 재귀함수를 호출합니다.\n",
            "87 번째 재귀함수에서 88 번째 재귀함수를 호출합니다.\n",
            "88 번째 재귀함수에서 89 번째 재귀함수를 호출합니다.\n",
            "89 번째 재귀함수에서 90 번째 재귀함수를 호출합니다.\n",
            "90 번째 재귀함수에서 91 번째 재귀함수를 호출합니다.\n",
            "91 번째 재귀함수에서 92 번째 재귀함수를 호출합니다.\n",
            "92 번째 재귀함수에서 93 번째 재귀함수를 호출합니다.\n",
            "93 번째 재귀함수에서 94 번째 재귀함수를 호출합니다.\n",
            "94 번째 재귀함수에서 95 번째 재귀함수를 호출합니다.\n",
            "95 번째 재귀함수에서 96 번째 재귀함수를 호출합니다.\n",
            "96 번째 재귀함수에서 97 번째 재귀함수를 호출합니다.\n",
            "97 번째 재귀함수에서 98 번째 재귀함수를 호출합니다.\n",
            "98 번째 재귀함수에서 99 번째 재귀함수를 호출합니다.\n",
            "99 번째 재귀함수에서 100 번째 재귀함수를 호출합니다.\n",
            "99 번째 재귀함수를 종료합니다.\n",
            "98 번째 재귀함수를 종료합니다.\n",
            "97 번째 재귀함수를 종료합니다.\n",
            "96 번째 재귀함수를 종료합니다.\n",
            "95 번째 재귀함수를 종료합니다.\n",
            "94 번째 재귀함수를 종료합니다.\n",
            "93 번째 재귀함수를 종료합니다.\n",
            "92 번째 재귀함수를 종료합니다.\n",
            "91 번째 재귀함수를 종료합니다.\n",
            "90 번째 재귀함수를 종료합니다.\n",
            "89 번째 재귀함수를 종료합니다.\n",
            "88 번째 재귀함수를 종료합니다.\n",
            "87 번째 재귀함수를 종료합니다.\n",
            "86 번째 재귀함수를 종료합니다.\n",
            "85 번째 재귀함수를 종료합니다.\n",
            "84 번째 재귀함수를 종료합니다.\n",
            "83 번째 재귀함수를 종료합니다.\n",
            "82 번째 재귀함수를 종료합니다.\n",
            "81 번째 재귀함수를 종료합니다.\n",
            "80 번째 재귀함수를 종료합니다.\n",
            "79 번째 재귀함수를 종료합니다.\n",
            "78 번째 재귀함수를 종료합니다.\n",
            "77 번째 재귀함수를 종료합니다.\n",
            "76 번째 재귀함수를 종료합니다.\n",
            "75 번째 재귀함수를 종료합니다.\n",
            "74 번째 재귀함수를 종료합니다.\n",
            "73 번째 재귀함수를 종료합니다.\n",
            "72 번째 재귀함수를 종료합니다.\n",
            "71 번째 재귀함수를 종료합니다.\n",
            "70 번째 재귀함수를 종료합니다.\n",
            "69 번째 재귀함수를 종료합니다.\n",
            "68 번째 재귀함수를 종료합니다.\n",
            "67 번째 재귀함수를 종료합니다.\n",
            "66 번째 재귀함수를 종료합니다.\n",
            "65 번째 재귀함수를 종료합니다.\n",
            "64 번째 재귀함수를 종료합니다.\n",
            "63 번째 재귀함수를 종료합니다.\n",
            "62 번째 재귀함수를 종료합니다.\n",
            "61 번째 재귀함수를 종료합니다.\n",
            "60 번째 재귀함수를 종료합니다.\n",
            "59 번째 재귀함수를 종료합니다.\n",
            "58 번째 재귀함수를 종료합니다.\n",
            "57 번째 재귀함수를 종료합니다.\n",
            "56 번째 재귀함수를 종료합니다.\n",
            "55 번째 재귀함수를 종료합니다.\n",
            "54 번째 재귀함수를 종료합니다.\n",
            "53 번째 재귀함수를 종료합니다.\n",
            "52 번째 재귀함수를 종료합니다.\n",
            "51 번째 재귀함수를 종료합니다.\n",
            "50 번째 재귀함수를 종료합니다.\n",
            "49 번째 재귀함수를 종료합니다.\n",
            "48 번째 재귀함수를 종료합니다.\n",
            "47 번째 재귀함수를 종료합니다.\n",
            "46 번째 재귀함수를 종료합니다.\n",
            "45 번째 재귀함수를 종료합니다.\n",
            "44 번째 재귀함수를 종료합니다.\n",
            "43 번째 재귀함수를 종료합니다.\n",
            "42 번째 재귀함수를 종료합니다.\n",
            "41 번째 재귀함수를 종료합니다.\n",
            "40 번째 재귀함수를 종료합니다.\n",
            "39 번째 재귀함수를 종료합니다.\n",
            "38 번째 재귀함수를 종료합니다.\n",
            "37 번째 재귀함수를 종료합니다.\n",
            "36 번째 재귀함수를 종료합니다.\n",
            "35 번째 재귀함수를 종료합니다.\n",
            "34 번째 재귀함수를 종료합니다.\n",
            "33 번째 재귀함수를 종료합니다.\n",
            "32 번째 재귀함수를 종료합니다.\n",
            "31 번째 재귀함수를 종료합니다.\n",
            "30 번째 재귀함수를 종료합니다.\n",
            "29 번째 재귀함수를 종료합니다.\n",
            "28 번째 재귀함수를 종료합니다.\n",
            "27 번째 재귀함수를 종료합니다.\n",
            "26 번째 재귀함수를 종료합니다.\n",
            "25 번째 재귀함수를 종료합니다.\n",
            "24 번째 재귀함수를 종료합니다.\n",
            "23 번째 재귀함수를 종료합니다.\n",
            "22 번째 재귀함수를 종료합니다.\n",
            "21 번째 재귀함수를 종료합니다.\n",
            "20 번째 재귀함수를 종료합니다.\n",
            "19 번째 재귀함수를 종료합니다.\n",
            "18 번째 재귀함수를 종료합니다.\n",
            "17 번째 재귀함수를 종료합니다.\n",
            "16 번째 재귀함수를 종료합니다.\n",
            "15 번째 재귀함수를 종료합니다.\n",
            "14 번째 재귀함수를 종료합니다.\n",
            "13 번째 재귀함수를 종료합니다.\n",
            "12 번째 재귀함수를 종료합니다.\n",
            "11 번째 재귀함수를 종료합니다.\n",
            "10 번째 재귀함수를 종료합니다.\n",
            "9 번째 재귀함수를 종료합니다.\n",
            "8 번째 재귀함수를 종료합니다.\n",
            "7 번째 재귀함수를 종료합니다.\n",
            "6 번째 재귀함수를 종료합니다.\n",
            "5 번째 재귀함수를 종료합니다.\n",
            "4 번째 재귀함수를 종료합니다.\n",
            "3 번째 재귀함수를 종료합니다.\n",
            "2 번째 재귀함수를 종료합니다.\n",
            "1 번째 재귀함수를 종료합니다.\n"
          ],
          "name": "stdout"
        }
      ]
    },
    {
      "cell_type": "code",
      "metadata": {
        "id": "WlwZ76cMipoz",
        "colab_type": "code",
        "colab": {
          "base_uri": "https://localhost:8080/",
          "height": 53
        },
        "outputId": "a14155af-8c55-4ec8-a3d6-f0e721268f4b"
      },
      "source": [
        "#2가지 방식 팩토리얼\n",
        "def factorial_iterative(n):\n",
        "  result = 1\n",
        "  for i in range(1,n+1):\n",
        "    result *= i\n",
        "  return result\n",
        "\n",
        "def factorial_recursive(n):\n",
        "  if n<= 1:\n",
        "    return 1\n",
        "  return n * factorial_recursive(n-1)\n",
        "\n",
        "print('반복적으로 재귀 구현 ',factorial_iterative(5))\n",
        "print('재귀적으로 재귀 구현 ',factorial_recursive(5))\n",
        "  \n",
        "#재귀 사용시 점화식을 그대로 소스코드로 옮길 수 있다    "
      ],
      "execution_count": null,
      "outputs": [
        {
          "output_type": "stream",
          "text": [
            "반복적으로 재귀 구현  120\n",
            "재귀적으로 재귀 구현  120\n"
          ],
          "name": "stdout"
        }
      ]
    },
    {
      "cell_type": "markdown",
      "metadata": {
        "id": "MGGjau_pjgfd",
        "colab_type": "text"
      },
      "source": [
        "#DFS \n",
        "- 깊이 우선 탐색이라고도 부르며, 그래프에서 깊은 부분을 우선적으로 탐색하는 알고리즘이다.\n",
        "\n",
        " 동작과정\n",
        " 1. 탐색 시장 노드를 스택에 삽입하고 방문처리를 한다\n",
        " 2. 스택의 최상단 노드에 방문하지 않은 인접 노드가 있으면 그 인접노드를 스택에 넣고 방문처리를 한다. 방문하지 않은 인접노드가 없으면 스택에서 최상단 노드를 꺼낸다.\n",
        " 3. 2번과정을 더이상 수행할 수 없을때까지 반복한다.\n",
        " tip. '방문처리'는 스택에 한번 삽입되어 처리된 노드가 다시 삽입되지 않게 체크하는 것을 의미한다. 방문처리를 함으로써 각 노드를 한 번씩만 처리할 수 있다.\n",
        "\n",
        "#인접행렬 / 인접리스트를 알아야 한다"
      ]
    },
    {
      "cell_type": "code",
      "metadata": {
        "id": "xGvf5jVdk4V3",
        "colab_type": "code",
        "colab": {
          "base_uri": "https://localhost:8080/",
          "height": 53
        },
        "outputId": "1eae512c-cec8-4167-b8be-0b4ae3f1a345"
      },
      "source": [
        "#인접행렬\n",
        "INF = int(1e9)\n",
        "matrix = [\n",
        "         [0,7,5],\n",
        "         [7,0,INF],\n",
        "         [5,INF,0]\n",
        "]\n",
        "print('인접행렬', matrix)\n",
        "\n",
        "#인접 리스트\n",
        "graph = [[] for _ in range(3)]\n",
        "graph[0].append((1,7)) #0번 노드가 1번노드와 연결되는데 거리가 3인거임\n",
        "graph[0].append((2,5))\n",
        "\n",
        "graph[1].append((0,7))\n",
        "\n",
        "graph[2].append((0,5))\n",
        "\n",
        "print('인접리스트',graph)\n",
        "#p136866666666666666666666666666666666666633................\n",
        "#두 방식의 차이점-> 메모리측면에서 보면 인접행렬방식은 모든 관계를 저장하기 때문에 노드 개수가많을 수록 메모리가 불필요하게 낭비된다.\n",
        "#반면 인접리스트 방식은 인접행렬방식에 비해 특정한 두 노드가 연결되어 있는지에 대한 정보를 얻는 속도가 느리다.\n",
        "#인접리스트 방식에서는 연결된 데이터를 하나씩 확인해야 하기 때문이다."
      ],
      "execution_count": null,
      "outputs": [
        {
          "output_type": "stream",
          "text": [
            "인접행렬 [[0, 7, 5], [7, 0, 1000000000], [5, 1000000000, 0]]\n",
            "[[(1, 7), (2, 5)], [(0, 7)], [(0, 5)]]\n"
          ],
          "name": "stdout"
        }
      ]
    },
    {
      "cell_type": "code",
      "metadata": {
        "id": "1vVOk7n82RbN",
        "colab_type": "code",
        "colab": {}
      },
      "source": [
        "#DFS 예제\n",
        "def dfs(graph, v, visited):\n",
        "  #현재 노드를 방문처리\n",
        "  visited[v] = True\n",
        "  print(v,end=' ')\n",
        "  # 현재 노드와 연결된 다른 노드 재귀적 방문\n",
        "  for i in graph[v]:\n",
        "    if not visited[i]:\n",
        "      dfs(graph,i,visited)\n",
        "\n",
        "\n",
        "graph = [\n",
        "         [],\n",
        "         [2,3,8],\n",
        "         [1,7],\n",
        "         [1,4,5],\n",
        "         [3,5],\n",
        "         [3,4],\n",
        "         [7],\n",
        "         [2,6,8],\n",
        "         [1,7]\n",
        "]\n",
        "visited = [False] * 9\n",
        "dfs(graph,1,visited)"
      ],
      "execution_count": null,
      "outputs": []
    },
    {
      "cell_type": "markdown",
      "metadata": {
        "id": "SugJMZsM4SvN",
        "colab_type": "text"
      },
      "source": [
        "#BFS\n",
        "- 너비우선 탐색, 가까운 노드부터 탐색하는 알고리즘\n",
        "- 선입선출 방식인 큐 자료구조를 이용하는것이 정석\n",
        "\n",
        " 동작방식\n",
        "\n",
        " 1. 탐색 시작 노드를 큐에 삽입하고 방문 처리를 한다.\n",
        " 2. 큐에서 노드를 꺼내 해당 노드의 인접노드 중에서 방문하지 않은 노드를 모두 큐에 삽입하고 방문 처리를 한다.\n",
        " 3. 2번 과정을 더이상 수행할 수 없을때까지 반복한다."
      ]
    },
    {
      "cell_type": "code",
      "metadata": {
        "id": "a6sQmA325rmd",
        "colab_type": "code",
        "colab": {
          "base_uri": "https://localhost:8080/",
          "height": 35
        },
        "outputId": "ea9f884d-5aa4-4620-98d2-b3a19d5ef603"
      },
      "source": [
        "from collections import deque\n",
        "\n",
        "def bfs(graph,start,visited):\n",
        "  queue = deque([start])\n",
        "  #현재 노드 방문처리\n",
        "  visited[start] = True\n",
        "\n",
        "  while queue :\n",
        "    v = queue.popleft()\n",
        "    print(v, end=' ')\n",
        "    #해당 원소와 연결된 아직 방문하지 않은 원소들을 큐에 삽입\n",
        "    for i in graph[v]:\n",
        "      if not visited[i]:\n",
        "        queue.append(i)\n",
        "        visited[i] = True\n",
        "\n",
        "\n",
        "#리스트 자료형으로 표현(2차원 리스트)\n",
        "graph = [\n",
        "         [],\n",
        "         [2,3,8],\n",
        "         [1,7],\n",
        "         [1,4,5],\n",
        "         [3,5],\n",
        "         [3,4],\n",
        "         [7],\n",
        "         [2,6,8],\n",
        "         [1,7]\n",
        "]\n",
        "visited = [False] * 9\n",
        "bfs(graph,1,visited)"
      ],
      "execution_count": null,
      "outputs": [
        {
          "output_type": "stream",
          "text": [
            "1 2 3 8 7 4 5 6 "
          ],
          "name": "stdout"
        }
      ]
    },
    {
      "cell_type": "markdown",
      "metadata": {
        "id": "FNvyC-718g8d",
        "colab_type": "text"
      },
      "source": [
        "#DFS #음료수얼려먹기\n",
        "p149\n"
      ]
    },
    {
      "cell_type": "code",
      "metadata": {
        "id": "0PPNmPIC58Dr",
        "colab_type": "code",
        "colab": {
          "base_uri": "https://localhost:8080/",
          "height": 718
        },
        "outputId": "3358dac8-0897-4caa-c78c-d70a9d987c1b"
      },
      "source": [
        "#1. 특정한 지점의 주변 상,하,좌,우를 살펴본 뒤에 주변 지점 중에서 값이 '0'이면서 아직 방문하지 않은 지점이 있다면 해당 지점을 방문한다.\n",
        "#2. 방문한 지점에서 다시 상,하,좌,우를 살펴보면서 방문을 다시 진행하면, 연결된 모든 지점을 방문할 수 있다.\n",
        "#3. 1~2번의 과정을 모든 노드에 반복하며 방문하지 않은 지점의 수를 센다.\n",
        "\n",
        "n,m = map(int,input().split())\n",
        "graph = []\n",
        "for _ in range(n):\n",
        "  graph.append(list(map(int,input())))\n",
        "\n",
        "#DFS로 특정한 노드를 방문한 뒤에 연결된 모든 노드들도 방문\n",
        "def dfs(x,y):\n",
        "  #주어진 범위를 벗아나는 경우 바로 종료\n",
        "  if x <= -1 and x >= n and y <= -1 and y >= m:\n",
        "    return False\n",
        "  #현재 노드를 방문하지 않았다면\n",
        "  if graph[x][y] ==0:\n",
        "    #방문처리\n",
        "    graph[x][y] = 1\n",
        "    dfs(x-1,y)\n",
        "    dfs(x,y-1)\n",
        "    dfs(x+1,y)\n",
        "    dfs(x,y+1)\n",
        "    return True\n",
        "  return False\n",
        "    \n",
        "\n",
        "#모든 노드에 대하여 음료수 채우기\n",
        "result = 0\n",
        "for i in range(n):\n",
        "  for j in range(m):\n",
        "    #현재 위치에서 dfs 수행\n",
        "    if dfs(i,j) == True:\n",
        "      result+=1\n",
        "\n",
        "print(result)"
      ],
      "execution_count": null,
      "outputs": [
        {
          "output_type": "stream",
          "text": [
            "15 14\n",
            "00000111100000\n",
            "11111101111110\n",
            "11011101101110\n",
            "11011101100000\n",
            "11011111111111\n",
            "11011111111100\n",
            "11000000011111\n",
            "01111111111111\n"
          ],
          "name": "stdout"
        },
        {
          "output_type": "error",
          "ename": "KeyboardInterrupt",
          "evalue": "ignored",
          "traceback": [
            "\u001b[0;31m---------------------------------------------------------------------------\u001b[0m",
            "\u001b[0;31mKeyboardInterrupt\u001b[0m                         Traceback (most recent call last)",
            "\u001b[0;32m/usr/local/lib/python3.6/dist-packages/ipykernel/kernelbase.py\u001b[0m in \u001b[0;36m_input_request\u001b[0;34m(self, prompt, ident, parent, password)\u001b[0m\n\u001b[1;32m    728\u001b[0m             \u001b[0;32mtry\u001b[0m\u001b[0;34m:\u001b[0m\u001b[0;34m\u001b[0m\u001b[0;34m\u001b[0m\u001b[0m\n\u001b[0;32m--> 729\u001b[0;31m                 \u001b[0mident\u001b[0m\u001b[0;34m,\u001b[0m \u001b[0mreply\u001b[0m \u001b[0;34m=\u001b[0m \u001b[0mself\u001b[0m\u001b[0;34m.\u001b[0m\u001b[0msession\u001b[0m\u001b[0;34m.\u001b[0m\u001b[0mrecv\u001b[0m\u001b[0;34m(\u001b[0m\u001b[0mself\u001b[0m\u001b[0;34m.\u001b[0m\u001b[0mstdin_socket\u001b[0m\u001b[0;34m,\u001b[0m \u001b[0;36m0\u001b[0m\u001b[0;34m)\u001b[0m\u001b[0;34m\u001b[0m\u001b[0;34m\u001b[0m\u001b[0m\n\u001b[0m\u001b[1;32m    730\u001b[0m             \u001b[0;32mexcept\u001b[0m \u001b[0mException\u001b[0m\u001b[0;34m:\u001b[0m\u001b[0;34m\u001b[0m\u001b[0;34m\u001b[0m\u001b[0m\n",
            "\u001b[0;32m/usr/local/lib/python3.6/dist-packages/jupyter_client/session.py\u001b[0m in \u001b[0;36mrecv\u001b[0;34m(self, socket, mode, content, copy)\u001b[0m\n\u001b[1;32m    802\u001b[0m         \u001b[0;32mtry\u001b[0m\u001b[0;34m:\u001b[0m\u001b[0;34m\u001b[0m\u001b[0;34m\u001b[0m\u001b[0m\n\u001b[0;32m--> 803\u001b[0;31m             \u001b[0mmsg_list\u001b[0m \u001b[0;34m=\u001b[0m \u001b[0msocket\u001b[0m\u001b[0;34m.\u001b[0m\u001b[0mrecv_multipart\u001b[0m\u001b[0;34m(\u001b[0m\u001b[0mmode\u001b[0m\u001b[0;34m,\u001b[0m \u001b[0mcopy\u001b[0m\u001b[0;34m=\u001b[0m\u001b[0mcopy\u001b[0m\u001b[0;34m)\u001b[0m\u001b[0;34m\u001b[0m\u001b[0;34m\u001b[0m\u001b[0m\n\u001b[0m\u001b[1;32m    804\u001b[0m         \u001b[0;32mexcept\u001b[0m \u001b[0mzmq\u001b[0m\u001b[0;34m.\u001b[0m\u001b[0mZMQError\u001b[0m \u001b[0;32mas\u001b[0m \u001b[0me\u001b[0m\u001b[0;34m:\u001b[0m\u001b[0;34m\u001b[0m\u001b[0;34m\u001b[0m\u001b[0m\n",
            "\u001b[0;32m/usr/local/lib/python3.6/dist-packages/zmq/sugar/socket.py\u001b[0m in \u001b[0;36mrecv_multipart\u001b[0;34m(self, flags, copy, track)\u001b[0m\n\u001b[1;32m    490\u001b[0m         \"\"\"\n\u001b[0;32m--> 491\u001b[0;31m         \u001b[0mparts\u001b[0m \u001b[0;34m=\u001b[0m \u001b[0;34m[\u001b[0m\u001b[0mself\u001b[0m\u001b[0;34m.\u001b[0m\u001b[0mrecv\u001b[0m\u001b[0;34m(\u001b[0m\u001b[0mflags\u001b[0m\u001b[0;34m,\u001b[0m \u001b[0mcopy\u001b[0m\u001b[0;34m=\u001b[0m\u001b[0mcopy\u001b[0m\u001b[0;34m,\u001b[0m \u001b[0mtrack\u001b[0m\u001b[0;34m=\u001b[0m\u001b[0mtrack\u001b[0m\u001b[0;34m)\u001b[0m\u001b[0;34m]\u001b[0m\u001b[0;34m\u001b[0m\u001b[0;34m\u001b[0m\u001b[0m\n\u001b[0m\u001b[1;32m    492\u001b[0m         \u001b[0;31m# have first part already, only loop while more to receive\u001b[0m\u001b[0;34m\u001b[0m\u001b[0;34m\u001b[0m\u001b[0;34m\u001b[0m\u001b[0m\n",
            "\u001b[0;32mzmq/backend/cython/socket.pyx\u001b[0m in \u001b[0;36mzmq.backend.cython.socket.Socket.recv\u001b[0;34m()\u001b[0m\n",
            "\u001b[0;32mzmq/backend/cython/socket.pyx\u001b[0m in \u001b[0;36mzmq.backend.cython.socket.Socket.recv\u001b[0;34m()\u001b[0m\n",
            "\u001b[0;32mzmq/backend/cython/socket.pyx\u001b[0m in \u001b[0;36mzmq.backend.cython.socket._recv_copy\u001b[0;34m()\u001b[0m\n",
            "\u001b[0;32m/usr/local/lib/python3.6/dist-packages/zmq/backend/cython/checkrc.pxd\u001b[0m in \u001b[0;36mzmq.backend.cython.checkrc._check_rc\u001b[0;34m()\u001b[0m\n",
            "\u001b[0;31mKeyboardInterrupt\u001b[0m: ",
            "\nDuring handling of the above exception, another exception occurred:\n",
            "\u001b[0;31mKeyboardInterrupt\u001b[0m                         Traceback (most recent call last)",
            "\u001b[0;32m<ipython-input-5-c586fbb89bb5>\u001b[0m in \u001b[0;36m<module>\u001b[0;34m()\u001b[0m\n\u001b[1;32m      6\u001b[0m \u001b[0mgraph\u001b[0m \u001b[0;34m=\u001b[0m \u001b[0;34m[\u001b[0m\u001b[0;34m]\u001b[0m\u001b[0;34m\u001b[0m\u001b[0;34m\u001b[0m\u001b[0m\n\u001b[1;32m      7\u001b[0m \u001b[0;32mfor\u001b[0m \u001b[0m_\u001b[0m \u001b[0;32min\u001b[0m \u001b[0mrange\u001b[0m\u001b[0;34m(\u001b[0m\u001b[0mn\u001b[0m\u001b[0;34m)\u001b[0m\u001b[0;34m:\u001b[0m\u001b[0;34m\u001b[0m\u001b[0;34m\u001b[0m\u001b[0m\n\u001b[0;32m----> 8\u001b[0;31m   \u001b[0mgraph\u001b[0m\u001b[0;34m.\u001b[0m\u001b[0mappend\u001b[0m\u001b[0;34m(\u001b[0m\u001b[0mlist\u001b[0m\u001b[0;34m(\u001b[0m\u001b[0mmap\u001b[0m\u001b[0;34m(\u001b[0m\u001b[0mint\u001b[0m\u001b[0;34m,\u001b[0m\u001b[0minput\u001b[0m\u001b[0;34m(\u001b[0m\u001b[0;34m)\u001b[0m\u001b[0;34m)\u001b[0m\u001b[0;34m)\u001b[0m\u001b[0;34m)\u001b[0m\u001b[0;34m\u001b[0m\u001b[0;34m\u001b[0m\u001b[0m\n\u001b[0m\u001b[1;32m      9\u001b[0m \u001b[0;34m\u001b[0m\u001b[0m\n\u001b[1;32m     10\u001b[0m \u001b[0;31m#DFS로 특정한 노드를 방문한 뒤에 연결된 모든 노드들도 방문\u001b[0m\u001b[0;34m\u001b[0m\u001b[0;34m\u001b[0m\u001b[0;34m\u001b[0m\u001b[0m\n",
            "\u001b[0;32m/usr/local/lib/python3.6/dist-packages/ipykernel/kernelbase.py\u001b[0m in \u001b[0;36mraw_input\u001b[0;34m(self, prompt)\u001b[0m\n\u001b[1;32m    702\u001b[0m             \u001b[0mself\u001b[0m\u001b[0;34m.\u001b[0m\u001b[0m_parent_ident\u001b[0m\u001b[0;34m,\u001b[0m\u001b[0;34m\u001b[0m\u001b[0;34m\u001b[0m\u001b[0m\n\u001b[1;32m    703\u001b[0m             \u001b[0mself\u001b[0m\u001b[0;34m.\u001b[0m\u001b[0m_parent_header\u001b[0m\u001b[0;34m,\u001b[0m\u001b[0;34m\u001b[0m\u001b[0;34m\u001b[0m\u001b[0m\n\u001b[0;32m--> 704\u001b[0;31m             \u001b[0mpassword\u001b[0m\u001b[0;34m=\u001b[0m\u001b[0;32mFalse\u001b[0m\u001b[0;34m,\u001b[0m\u001b[0;34m\u001b[0m\u001b[0;34m\u001b[0m\u001b[0m\n\u001b[0m\u001b[1;32m    705\u001b[0m         )\n\u001b[1;32m    706\u001b[0m \u001b[0;34m\u001b[0m\u001b[0m\n",
            "\u001b[0;32m/usr/local/lib/python3.6/dist-packages/ipykernel/kernelbase.py\u001b[0m in \u001b[0;36m_input_request\u001b[0;34m(self, prompt, ident, parent, password)\u001b[0m\n\u001b[1;32m    732\u001b[0m             \u001b[0;32mexcept\u001b[0m \u001b[0mKeyboardInterrupt\u001b[0m\u001b[0;34m:\u001b[0m\u001b[0;34m\u001b[0m\u001b[0;34m\u001b[0m\u001b[0m\n\u001b[1;32m    733\u001b[0m                 \u001b[0;31m# re-raise KeyboardInterrupt, to truncate traceback\u001b[0m\u001b[0;34m\u001b[0m\u001b[0;34m\u001b[0m\u001b[0;34m\u001b[0m\u001b[0m\n\u001b[0;32m--> 734\u001b[0;31m                 \u001b[0;32mraise\u001b[0m \u001b[0mKeyboardInterrupt\u001b[0m\u001b[0;34m\u001b[0m\u001b[0;34m\u001b[0m\u001b[0m\n\u001b[0m\u001b[1;32m    735\u001b[0m             \u001b[0;32melse\u001b[0m\u001b[0;34m:\u001b[0m\u001b[0;34m\u001b[0m\u001b[0;34m\u001b[0m\u001b[0m\n\u001b[1;32m    736\u001b[0m                 \u001b[0;32mbreak\u001b[0m\u001b[0;34m\u001b[0m\u001b[0;34m\u001b[0m\u001b[0m\n",
            "\u001b[0;31mKeyboardInterrupt\u001b[0m: "
          ]
        }
      ]
    },
    {
      "cell_type": "markdown",
      "metadata": {
        "id": "fTUkFV_BTYiB",
        "colab_type": "text"
      },
      "source": [
        "#BFS #미로탈출\n",
        "p152"
      ]
    },
    {
      "cell_type": "code",
      "metadata": {
        "id": "-6AwlgC2WH3C",
        "colab_type": "code",
        "colab": {
          "base_uri": "https://localhost:8080/",
          "height": 143
        },
        "outputId": "ccb109e6-72cb-4855-8bb3-c82018199d7e"
      },
      "source": [
        "from collections import deque\n",
        "n,m = map(int,input().split())\n",
        "graph = []\n",
        "for _ in range(n):\n",
        "  graph.append(list(map(int,input())))\n",
        "dx = [-1,0,1,0]\n",
        "dy = [0,1,0,-1]\n",
        "\n",
        "def bfs(x,y):\n",
        "  queue = deque()\n",
        "  queue.append((x,y))\n",
        "  while queue:\n",
        "    x,y = queue.popleft()\n",
        "    #4방향 위치 확인\n",
        "    for i in range(4):\n",
        "      nx = x + dx[i]\n",
        "      ny = y + dy[i]\n",
        "      #벗어난 경우 무시\n",
        "      if nx < 0 or nx >= n or ny <0 or ny >=m:\n",
        "        continue\n",
        "      if graph[nx][ny] ==0 :\n",
        "        continue\n",
        "      if graph[nx][ny] ==1 :\n",
        "        graph[nx][ny] = graph[x][y] +1\n",
        "        queue.append((nx,ny))\n",
        "  return graph[n-1][m-1]\n",
        "\n",
        "print(bfs(0,0))\n",
        "\n",
        "# 5 6\n",
        "# 101010\n",
        "# 111111\n",
        "# 000001\n",
        "# 111111\n",
        "# 111111"
      ],
      "execution_count": null,
      "outputs": [
        {
          "output_type": "stream",
          "text": [
            "5 6\n",
            "101010\n",
            "111111\n",
            "000001\n",
            "111111\n",
            "111111\n",
            "10\n"
          ],
          "name": "stdout"
        }
      ]
    },
    {
      "cell_type": "markdown",
      "metadata": {
        "id": "-aXqNJOR-H7N",
        "colab_type": "text"
      },
      "source": [
        "# **4. 정렬**\n",
        "\n",
        "**데이터를 특정한 기준에 따라서 순서대로 나열**"
      ]
    },
    {
      "cell_type": "markdown",
      "metadata": {
        "id": "phLc5fVTG9zd",
        "colab_type": "text"
      },
      "source": [
        "#선택정렬\n",
        " - 데이터가 무작위로 여러개 있을때, 이중에서 가장 작은 데이터를 선택해 맨 앞에 있는데이터와 바꾸고,  그 다음 작은 데이터를 선택해 앞에서 두번째 데이터와 바꾸는 과장 반복\n",
        " -시간복잡도 -> O(n^2)"
      ]
    },
    {
      "cell_type": "code",
      "metadata": {
        "id": "IhKYqHvUB9C5",
        "colab_type": "code",
        "colab": {
          "base_uri": "https://localhost:8080/",
          "height": 35
        },
        "outputId": "09699306-9e9c-4f14-bad2-c0b0760cbbff"
      },
      "source": [
        "array = [7,5,9,0,3,1,6,2,4,8]\n",
        "\n",
        "for i in range(len(array)):\n",
        "  min_index = i #가장 작은 원소의 인덱스\n",
        "  for j in range(i+1,len(array)):\n",
        "    if array[min_index] > array[j]:\n",
        "      min_index = j\n",
        "  array[i],array[min_index] = array[min_index],array[i]\n",
        "\n",
        "print(array)"
      ],
      "execution_count": null,
      "outputs": [
        {
          "output_type": "stream",
          "text": [
            "[0, 1, 2, 3, 4, 5, 6, 7, 8, 9]\n"
          ],
          "name": "stdout"
        }
      ]
    },
    {
      "cell_type": "markdown",
      "metadata": {
        "id": "4spnJX8uIQfO",
        "colab_type": "text"
      },
      "source": [
        "#삽입정렬\n",
        " - 데이터를 하나씩 확인하며, 각 데이터를 적절한 위치에 삽입\n",
        " - 시간복잡도-> O(n^2)"
      ]
    },
    {
      "cell_type": "code",
      "metadata": {
        "id": "k_eXBXYEMjLF",
        "colab_type": "code",
        "colab": {
          "base_uri": "https://localhost:8080/",
          "height": 35
        },
        "outputId": "c26f44aa-9b80-41a6-c664-705336137405"
      },
      "source": [
        "array = [7,5,9,0,3,1,6,2,4,8]\n",
        "\n",
        "for i in range(1,len(array)):\n",
        "  for j in range(i,0,-1):\n",
        "    if array[j] < array[j-1] :\n",
        "      array[j],array[j-1] = array[j-1],array[j]\n",
        "    else:\n",
        "      break\n",
        "\n",
        "print(array)"
      ],
      "execution_count": null,
      "outputs": [
        {
          "output_type": "stream",
          "text": [
            "[0, 1, 2, 3, 4, 5, 6, 7, 8, 9]\n"
          ],
          "name": "stdout"
        }
      ]
    },
    {
      "cell_type": "markdown",
      "metadata": {
        "id": "OFvQK-nSd5k3",
        "colab_type": "text"
      },
      "source": [
        "#퀵정렬\n",
        " - 기준데이터를 설정하고 그 기준보다 큰데이퉈와 작은데이터의 위치를 교체\n",
        " - 피벗(교환하기 위한 '기준') 사용\n",
        " - 피벗 정하고 왼쪽부터 / 오른쪽부터 큰거 작은거 비교해서 기준보다 작으면 왼쪽 아닌거 오른쪽 \n",
        " - 왼쪽에 있는게 피벗보다 작다면 피벗과 자리 교환\n",
        " - 시간 복잡도 -> O(nlogn) 최악-> O(n^2) (이미 정렬되어있을경우)"
      ]
    },
    {
      "cell_type": "code",
      "metadata": {
        "id": "lNOPA-lclDwn",
        "colab_type": "code",
        "colab": {
          "base_uri": "https://localhost:8080/",
          "height": 35
        },
        "outputId": "15aa3b4f-68fd-4de0-fa1d-3e6a4652c50b"
      },
      "source": [
        "array = [7,5,9,0,3,1,6,2,4,8]\n",
        "\n",
        "def quick_sort(array,start,end):\n",
        "  if start >= end:\n",
        "    return\n",
        "  pivot = start\n",
        "  left = start+1\n",
        "  right = end\n",
        "  while left <= right:\n",
        "    #피벗보다 큰 데이터를 찾을때까지 반복\n",
        "    while left <= end and array[left] <= array[pivot]:\n",
        "      left+=1\n",
        "    #피벗보다 작은 데이터를 찾을때까지 반복\n",
        "    while right > start and array[right] > array[pivot]:\n",
        "      right -=1\n",
        "    if left > right: #엇갈렸으면 작은 right -= 데이터와 비벗을 교체\n",
        "      array[right],array[pivot] = array[pivot],array[right]\n",
        "    else:\n",
        "      array[left],array[right] = array[right],array[left]\n",
        "  \n",
        "  quick_sort(array,start,right-1)\n",
        "  quick_sort(array,right+1,end)\n",
        "\n",
        "quick_sort(array,0,len(array)-1)\n",
        "print(array)"
      ],
      "execution_count": null,
      "outputs": [
        {
          "output_type": "stream",
          "text": [
            "[0, 1, 2, 3, 4, 5, 6, 7, 8, 9]\n"
          ],
          "name": "stdout"
        }
      ]
    },
    {
      "cell_type": "code",
      "metadata": {
        "id": "YpyEV3RTq36m",
        "colab_type": "code",
        "colab": {
          "base_uri": "https://localhost:8080/",
          "height": 35
        },
        "outputId": "9c31b47e-e3c1-4b23-a781-7e64dcf4bd92"
      },
      "source": [
        "#파이썬의 장점을 살린 소스코드\n",
        "array = [7,5,9,0,3,1,6,2,4,8]\n",
        "def quick_sort(array):\n",
        "  #리스트가 하나의 원소만 담고있으면 종료\n",
        "  if len(array) <= 1:\n",
        "    return array\n",
        "  pivot = array[0]\n",
        "  tail = array[1:]\n",
        "\n",
        "  #분할된 왼쪽부분\n",
        "  left_side = [x for x in tail if x<= pivot]\n",
        "  #분할된 오른쪽부분\n",
        "  right_side = [x for x in tail if x>pivot]\n",
        "\n",
        "  #분할 이후 왼쪽부분과 오른쪽 부분에서 각각 정렬을 수행하고 전체리스트르 반환\n",
        "  return quick_sort(left_side) +[pivot]+quick_sort(right_side)\n",
        "\n",
        "print(quick_sort(array))"
      ],
      "execution_count": null,
      "outputs": [
        {
          "output_type": "stream",
          "text": [
            "[0, 1, 2, 3, 4, 5, 6, 7, 8, 9]\n"
          ],
          "name": "stdout"
        }
      ]
    },
    {
      "cell_type": "markdown",
      "metadata": {
        "id": "PPk7O-K5t_JG",
        "colab_type": "text"
      },
      "source": [
        "#계수정렬\n",
        " - 특정한 조건이 부합할 때만 사용할 수 있지만 매우 빠른 정렬 알고리즘\n",
        " - 데이터의 크기 범위가 제한되어 정수 형태로 표현할 수 있을때만 사용할 수 있다. (일반적으로 1,000,000 미만)\n",
        " - 모든 범위를 담을 수 있는 크기의 리스트를 선언하기 때문\n",
        " - 시간 복잡도-> 데이터 N개 최대값 크기 K 일때 n(N+K)"
      ]
    },
    {
      "cell_type": "code",
      "metadata": {
        "id": "SFLaddXQvD76",
        "colab_type": "code",
        "colab": {
          "base_uri": "https://localhost:8080/",
          "height": 35
        },
        "outputId": "84823d7a-c692-440e-d967-85503f7c5212"
      },
      "source": [
        "array = [7,5,9,0,3,1,6,2,9,1,4,8,0,5,2]\n",
        "#모든 범위를 포함하는 리스트 선언(모든값을 0으로 초기화)\n",
        "count = [0] * (max(array)+1)\n",
        "\n",
        "for i in range(len(array)):\n",
        "  count[array[i]] += 1\n",
        "\n",
        "for i in range(len(count)):\n",
        "  for j in range(count[i]):\n",
        "    print(i,end=' ')"
      ],
      "execution_count": null,
      "outputs": [
        {
          "output_type": "stream",
          "text": [
            "0 0 1 1 2 2 3 4 5 5 6 7 8 9 9 "
          ],
          "name": "stdout"
        }
      ]
    },
    {
      "cell_type": "markdown",
      "metadata": {
        "id": "aQfWRpZK-YoF",
        "colab_type": "text"
      },
      "source": [
        "#정렬 #위에서 아래로\n"
      ]
    },
    {
      "cell_type": "code",
      "metadata": {
        "id": "CqHb3lnW-aj4",
        "colab_type": "code",
        "colab": {
          "base_uri": "https://localhost:8080/",
          "height": 107
        },
        "outputId": "b450fc15-699c-4528-807a-9755e0548c59"
      },
      "source": [
        "n = int(input())\n",
        "array = []\n",
        "for _ in range(n):\n",
        "  array.append(int(input()))\n",
        "array.sort(reverse=True)\n",
        "print(array)"
      ],
      "execution_count": null,
      "outputs": [
        {
          "output_type": "stream",
          "text": [
            "3\n",
            "15\n",
            "27\n",
            "2\n",
            "[27, 15, 2]\n"
          ],
          "name": "stdout"
        }
      ]
    },
    {
      "cell_type": "markdown",
      "metadata": {
        "id": "zazeSjOb_hui",
        "colab_type": "text"
      },
      "source": [
        "#정렬 #성적이 낮은순 학생 출력"
      ]
    },
    {
      "cell_type": "code",
      "metadata": {
        "id": "PBWtO-q4_lYr",
        "colab_type": "code",
        "colab": {
          "base_uri": "https://localhost:8080/",
          "height": 89
        },
        "outputId": "adfd74bf-d02f-4c07-bbdb-9701282b4472"
      },
      "source": [
        "n = int(input())\n",
        "array  = []\n",
        "for _ in range(n):\n",
        "  x,y = input().split()\n",
        "  array.append((x,int(y)))\n",
        "\n",
        "array.sort(key=lambda student:student[1])\n",
        "print(array)"
      ],
      "execution_count": null,
      "outputs": [
        {
          "output_type": "stream",
          "text": [
            "2\n",
            "gd 55\n",
            "ee 22\n",
            "[('ee', 22), ('gd', 55)]\n"
          ],
          "name": "stdout"
        }
      ]
    },
    {
      "cell_type": "markdown",
      "metadata": {
        "id": "9s6XCAttAkhj",
        "colab_type": "text"
      },
      "source": [
        "#정렬 #두 배열의 원소 교체"
      ]
    },
    {
      "cell_type": "code",
      "metadata": {
        "id": "PifXBj9IAnEW",
        "colab_type": "code",
        "colab": {
          "base_uri": "https://localhost:8080/",
          "height": 89
        },
        "outputId": "f4fb6731-4305-4237-b42f-8a603efad8d9"
      },
      "source": [
        "n,k = map(int,input().split())\n",
        "arr1 = list(map(int,input().split()))\n",
        "arr2 = list(map(int,input().split()))\n",
        "arr1.sort()\n",
        "arr2.sort(reverse=True)\n",
        "\n",
        "for i in range(k):\n",
        "  if arr1[i] < arr2[i]:\n",
        "    arr1[i],arr2[i] = arr2[i],arr1[i]\n",
        "  else:\n",
        "    break\n",
        "print(sum(arr1))\n"
      ],
      "execution_count": null,
      "outputs": [
        {
          "output_type": "stream",
          "text": [
            "5 3\n",
            "1 2 5 4 3\n",
            "5 5 6 6 5\n",
            "26\n"
          ],
          "name": "stdout"
        }
      ]
    },
    {
      "cell_type": "markdown",
      "metadata": {
        "id": "HSVgbb6GBsvR",
        "colab_type": "text"
      },
      "source": [
        "# **5. 이진탐색**\n"
      ]
    },
    {
      "cell_type": "markdown",
      "metadata": {
        "id": "VLebmTa-B8S2",
        "colab_type": "text"
      },
      "source": [
        "#순차탐색\n",
        " - 리스트 안에 있는 특정한 데이터를 찾기 위해 앞에서부터 데이터를 하나씩 차례대로 확인하는 방법"
      ]
    },
    {
      "cell_type": "code",
      "metadata": {
        "id": "zOZ4ctXCCiAs",
        "colab_type": "code",
        "colab": {
          "base_uri": "https://localhost:8080/",
          "height": 71
        },
        "outputId": "f8f33d78-4812-4fac-fa9d-bade73f47964"
      },
      "source": [
        "def sequential_search(n,target,array):\n",
        "  for i in range(n):\n",
        "    if array[i] == target:\n",
        "      return i+1\n",
        "\n",
        "input_data = input().split()\n",
        "n = int(input_data[0])\n",
        "target = input_data[1]\n",
        "\n",
        "array = input().split()\n",
        "\n",
        "print(sequential_search(n,target,array))"
      ],
      "execution_count": null,
      "outputs": [
        {
          "output_type": "stream",
          "text": [
            "5 d\n",
            "d e efa d e\n",
            "1\n"
          ],
          "name": "stdout"
        }
      ]
    },
    {
      "cell_type": "markdown",
      "metadata": {
        "id": "TUvehXZGD6Qg",
        "colab_type": "text"
      },
      "source": [
        "#이진탐색 : 반으로 쪼개면서 탐색하기\n",
        " - 시작점, 중간점, 끝점\n",
        " - 찾으려는 데이터와 중간점 위치에 있는 데이터를 반복적으로 비교\n",
        " - 시간 복잡도 -> O(logN)"
      ]
    },
    {
      "cell_type": "code",
      "metadata": {
        "id": "fQxAiTvqTcmM",
        "colab_type": "code",
        "colab": {
          "base_uri": "https://localhost:8080/",
          "height": 71
        },
        "outputId": "32987a27-cb3d-48f0-a828-ec1325c0c6b2"
      },
      "source": [
        "#재귀함수 구현\n",
        "def binary_search(array,target,start,end):\n",
        "  if start>end:\n",
        "    return None\n",
        "  mid  = (start+end)//2\n",
        "  #찾은경우 인덱스 반환\n",
        "  if array[mid] == target:\n",
        "    return mid\n",
        "  elif array[mid] > target:\n",
        "    return binary_search(array,target,start,mid-1)\n",
        "  else:\n",
        "    return binary_search(array,target,mid+1,end)\n",
        "\n",
        "n, target = map(int,input().split())\n",
        "array= list(map(int,input().split()))\n",
        "\n",
        "result = binary_search(array,target,0, n-1)\n",
        "if result == None :\n",
        "  print('존재 X')\n",
        "else:\n",
        "  print(result+1)\n",
        "\n",
        "\n"
      ],
      "execution_count": null,
      "outputs": [
        {
          "output_type": "stream",
          "text": [
            "10 7\n",
            "1 3 5 7 9 11 13 17 15\n",
            "4\n"
          ],
          "name": "stdout"
        }
      ]
    },
    {
      "cell_type": "code",
      "metadata": {
        "id": "l2SfCAd9VQgF",
        "colab_type": "code",
        "colab": {
          "base_uri": "https://localhost:8080/",
          "height": 71
        },
        "outputId": "01769436-bac4-4797-8248-25d61a6ec5c7"
      },
      "source": [
        "#반복문으로 구현\n",
        "def binary_search(array,target,start,end):\n",
        "  while start < end:\n",
        "    mid = (start+end) //2\n",
        "    if array[mid]==target:\n",
        "      return mid\n",
        "    elif array[mid] > target:\n",
        "      end = mid -1\n",
        "    else:\n",
        "      start = mid+1\n",
        "  return None\n",
        "n, target = map(int,input().split())\n",
        "array= list(map(int,input().split()))\n",
        "\n",
        "result = binary_search(array,target,0, n-1)\n",
        "if result == None :\n",
        "  print('존재 X')\n",
        "else:\n",
        "  print(result+1)"
      ],
      "execution_count": null,
      "outputs": [
        {
          "output_type": "stream",
          "text": [
            "10 7\n",
            "1 3 5 77 99\n",
            "존재 X\n"
          ],
          "name": "stdout"
        }
      ]
    },
    {
      "cell_type": "markdown",
      "metadata": {
        "id": "za_Ej6i7ChIb",
        "colab_type": "text"
      },
      "source": [
        "#트리 자료구조\n",
        " - 트리는 부모 노드와 자식 노드의 관계로 표현된다\n",
        " - 트리의 최상단 노드를 루트 노드라고 한다.\n",
        " - 트리의 최하단 노드를 단말 노드라고한다.\n",
        " - 트리에서 일부를 떼어내도 트리 구조이며이를 서브트리라고 한다.\n",
        " - 트리는 파일 시스템과 같이 계층적이고 정렬된 데이터를 다루기에 적합하다.\n",
        " \n"
      ]
    },
    {
      "cell_type": "markdown",
      "metadata": {
        "id": "G59B4JIGXj_-",
        "colab_type": "text"
      },
      "source": [
        "#이진 탐색 트리\n",
        " - 트리 자료구조 중에서 가장 간단한 형태가 이진 탐색트리 이다.\n",
        " - 부모 노드보다 왼쪽 자식 노드가 작다.\n",
        " - 부모 노드보다 오른쪽 자식 노드가 크다."
      ]
    },
    {
      "cell_type": "markdown",
      "metadata": {
        "id": "XksqHUnfYPrg",
        "colab_type": "text"
      },
      "source": [
        "#빠르게 입력받기"
      ]
    },
    {
      "cell_type": "code",
      "metadata": {
        "id": "7qBCkX1wYRBw",
        "colab_type": "code",
        "colab": {
          "base_uri": "https://localhost:8080/",
          "height": 35
        },
        "outputId": "b834be74-1bc4-47e4-cd25-697a0bb5bfe8"
      },
      "source": [
        "#빠르게 입력받기\n",
        "import sys\n",
        "input_data = sys.stdin.readline()\n",
        "#sys라이브러리를 사용할때는 한줄 입력받고 나서 rstrip함수를 꼭호출해야한다. \n",
        "#소스코드에 readline()입력하면 입력후 엔터가 줄바꿈 기호로 입력되는데, 이 공백문자를 제거하려면\n",
        "\n",
        "print(input_data)"
      ],
      "execution_count": null,
      "outputs": [
        {
          "output_type": "stream",
          "text": [
            "\n"
          ],
          "name": "stdout"
        }
      ]
    },
    {
      "cell_type": "markdown",
      "metadata": {
        "id": "Ps1ACUqRZeUS",
        "colab_type": "text"
      },
      "source": [
        "#이진탐색 #부품찾기\n",
        "#계수정렬\n",
        "#set()\n"
      ]
    },
    {
      "cell_type": "code",
      "metadata": {
        "id": "rWOmWYUgZgu-",
        "colab_type": "code",
        "colab": {
          "base_uri": "https://localhost:8080/",
          "height": 107
        },
        "outputId": "e2ff7b48-6463-43cb-a4bc-ebb016291a88"
      },
      "source": [
        "#재귀\n",
        "n = int(input())\n",
        "parts = list(map(int,input().split()))\n",
        "m = int(input())\n",
        "yo = list(map(int,input().split()))\n",
        "parts.sort()\n",
        "\n",
        "def binary_search(parts,start,end,i):\n",
        "  if start > end:\n",
        "    return False\n",
        "  mid = (start + end) //2\n",
        "  if parts[mid] == i:\n",
        "    return True\n",
        "  elif parts[mid] > i:\n",
        "    return binary_search(parts,start,mid-1,i)\n",
        "  elif parts[mid] < i:\n",
        "    return binary_search(parts,mid+1,end,i)\n",
        "  return False\n",
        "\n",
        "\n",
        "for i in yo:\n",
        "  if binary_search(parts,0,len(parts),i):\n",
        "    print('Yes',end=' ')\n",
        "  else:\n",
        "    print('No',end=' ')"
      ],
      "execution_count": 1,
      "outputs": [
        {
          "output_type": "stream",
          "text": [
            "5\n",
            "8 3 7 9 2\n",
            "3\n",
            "5 7 9\n",
            "No Yes Yes "
          ],
          "name": "stdout"
        }
      ]
    },
    {
      "cell_type": "code",
      "metadata": {
        "id": "yL8TXYQExLz1",
        "colab_type": "code",
        "colab": {
          "base_uri": "https://localhost:8080/",
          "height": 107
        },
        "outputId": "af66f31a-cd5f-4b3e-8ada-ed60ceef47bc"
      },
      "source": [
        "#반복 이진탐색\n",
        "n = int(input())\n",
        "parts = list(map(int,input().split()))\n",
        "m = int(input())\n",
        "yo = list(map(int,input().split()))\n",
        "parts.sort()\n",
        "\n",
        "def binary_search(parts,start,end,i):\n",
        "  while start <= end:\n",
        "    mid = (start + end) //2\n",
        "    if parts[mid] == i:\n",
        "      return True\n",
        "    elif parts[mid] > i:\n",
        "      end = mid-1\n",
        "    elif parts[mid] < i:\n",
        "      start = mid +1\n",
        "  return False\n",
        "\n",
        "\n",
        "for i in yo:\n",
        "  if binary_search(parts,0,len(parts),i):\n",
        "    print('Yes',end=' ')\n",
        "  else:\n",
        "    print('No',end=' ')"
      ],
      "execution_count": 3,
      "outputs": [
        {
          "output_type": "stream",
          "text": [
            "5\n",
            "8 3 7 9 2\n",
            "3\n",
            "5 7 9\n",
            "No Yes Yes "
          ],
          "name": "stdout"
        }
      ]
    },
    {
      "cell_type": "code",
      "metadata": {
        "id": "El81ZIX1frof",
        "colab_type": "code",
        "colab": {
          "base_uri": "https://localhost:8080/",
          "height": 143
        },
        "outputId": "13470a5a-05c7-456f-b559-a3f3c426f8e2"
      },
      "source": [
        "#계수정렬\n",
        "n = int(input())\n",
        "array = [0] * 1000000\n",
        "for i in input().split():\n",
        "  array[int(i)] = 1\n",
        "m = int(input())\n",
        "x = list(map(int,input().split()))\n",
        "\n",
        "for i in x:\n",
        "  if array[i] == 1:\n",
        "    print('yes')\n",
        "  else:\n",
        "    print('no')"
      ],
      "execution_count": 4,
      "outputs": [
        {
          "output_type": "stream",
          "text": [
            "5\n",
            "8 3 7 9 2\n",
            "3\n",
            "5 7 9\n",
            "no\n",
            "yes\n",
            "yes\n"
          ],
          "name": "stdout"
        }
      ]
    },
    {
      "cell_type": "code",
      "metadata": {
        "id": "ULVgzlEFyD9h",
        "colab_type": "code",
        "colab": {
          "base_uri": "https://localhost:8080/",
          "height": 143
        },
        "outputId": "17215cbd-4f86-49f7-8c8d-27e4855343ac"
      },
      "source": [
        "#set() 함수 사용\n",
        "n = int(input())\n",
        "array = set(map(int,input().split()))\n",
        "m = int(input())\n",
        "x = list(map(int,input().split()))\n",
        "\n",
        "for i in x:\n",
        "  if i in array:\n",
        "    print('Yes')\n",
        "  else:\n",
        "    print('No')"
      ],
      "execution_count": 5,
      "outputs": [
        {
          "output_type": "stream",
          "text": [
            "5\n",
            "8 3 7 9 2\n",
            "3\n",
            "5 7 9\n",
            "No\n",
            "Yes\n",
            "Yes\n"
          ],
          "name": "stdout"
        }
      ]
    },
    {
      "cell_type": "markdown",
      "metadata": {
        "id": "xTzYCdn1y_q2",
        "colab_type": "text"
      },
      "source": [
        "#이진 탐색 #떡볶이 떡 만들기\n",
        "#파라메트릭 서치\n",
        " - 원하는 조건을 만족하는 가장 알맞은 값을 찾는 문제"
      ]
    },
    {
      "cell_type": "code",
      "metadata": {
        "id": "A4-To30e0tUS",
        "colab_type": "code",
        "colab": {
          "base_uri": "https://localhost:8080/",
          "height": 71
        },
        "outputId": "8d69aeb5-3100-41c2-bcfa-455675f3455a"
      },
      "source": [
        "n, m = map(int,input().split())\n",
        "array= list(map(int,input().split()))\n",
        "\n",
        "start = 0\n",
        "end = max(array)\n",
        "\n",
        "result = 0\n",
        "while start<=end:\n",
        "  total = 0\n",
        "  mid = (start+end) //2\n",
        "  for x in array:\n",
        "    if x > mid:\n",
        "      total+=x-mid\n",
        "  if total< m:\n",
        "    end = mid-1\n",
        "  else:\n",
        "    result = mid\n",
        "    start = mid+1\n",
        "\n",
        "print(result)"
      ],
      "execution_count": 8,
      "outputs": [
        {
          "output_type": "stream",
          "text": [
            "4 6\n",
            "19 15 10 17\n",
            "15\n"
          ],
          "name": "stdout"
        }
      ]
    },
    {
      "cell_type": "markdown",
      "metadata": {
        "id": "1XVAH4z03UPF",
        "colab_type": "text"
      },
      "source": [
        "# **6. 다이나믹 프로그래밍**\n",
        " - 중복되는 연산을 줄이자\n",
        " - 다음 조건시 사용\n",
        "  - 큰 문제를 작은 문제로 나눌 수 있다.\n",
        "  - 작은 무제에서 구한 정답은 그것을 포함하는 큰 문제에서도 동일하다."
      ]
    },
    {
      "cell_type": "markdown",
      "metadata": {
        "id": "IfSgaewu5qKD",
        "colab_type": "text"
      },
      "source": [
        "#다이나믹 프로그래밍 #피보나치수열"
      ]
    },
    {
      "cell_type": "code",
      "metadata": {
        "id": "sZfz2rZm5pQa",
        "colab_type": "code",
        "colab": {
          "base_uri": "https://localhost:8080/",
          "height": 35
        },
        "outputId": "e3f55744-c2d2-4fb3-cac1-1b2be4584461"
      },
      "source": [
        "#한번 계산된 결과를 메모제이션하기위해 리스트 초기화\n",
        "d = [0] * 100\n",
        "\n",
        "def fibo(x):\n",
        "  if x == 1 or x == 2:\n",
        "    return 1\n",
        "  if d[x] != 0 :\n",
        "    return d[x]\n",
        "  d[x] =  fibo(x-1) + fibo(x-2)\n",
        "  return d[x]\n",
        "\n",
        "print(fibo(99))"
      ],
      "execution_count": 10,
      "outputs": [
        {
          "output_type": "stream",
          "text": [
            "218922995834555169026\n"
          ],
          "name": "stdout"
        }
      ]
    },
    {
      "cell_type": "code",
      "metadata": {
        "id": "mTa2vG076P9k",
        "colab_type": "code",
        "colab": {
          "base_uri": "https://localhost:8080/",
          "height": 35
        },
        "outputId": "7a9fe576-d6db-4731-afe1-8fb3e46b7bc1"
      },
      "source": [
        "a,b = 0,1\n",
        "for i in range(99):\n",
        "  a,b = b,a+b\n",
        "\n",
        "print(a)\n"
      ],
      "execution_count": 14,
      "outputs": [
        {
          "output_type": "stream",
          "text": [
            "218922995834555169026\n"
          ],
          "name": "stdout"
        }
      ]
    },
    {
      "cell_type": "code",
      "metadata": {
        "id": "8mk7KsZy66P7",
        "colab_type": "code",
        "colab": {
          "base_uri": "https://localhost:8080/",
          "height": 35
        },
        "outputId": "5a22fb50-ddf7-49cb-dd94-5b6dd3611561"
      },
      "source": [
        "#피보나치 반복수행\n",
        "d = [0] * 100\n",
        "d[1] = 1\n",
        "d[2] = 1\n",
        "n = 99\n",
        "for i in range(3,n+1):\n",
        "  d[i] = d[i-1] + d[i-2]\n",
        "\n",
        "print(d[n])"
      ],
      "execution_count": 15,
      "outputs": [
        {
          "output_type": "stream",
          "text": [
            "218922995834555169026\n"
          ],
          "name": "stdout"
        }
      ]
    },
    {
      "cell_type": "markdown",
      "metadata": {
        "id": "Pm-slCvyAAU5",
        "colab_type": "text"
      },
      "source": [
        "#다이나믹 프로그래밍 #1로만들기"
      ]
    },
    {
      "cell_type": "code",
      "metadata": {
        "id": "pfJpYlLa__st",
        "colab_type": "code",
        "colab": {
          "base_uri": "https://localhost:8080/",
          "height": 53
        },
        "outputId": "2f810581-9a5a-45dd-a3d1-0b1f3a26f7b6"
      },
      "source": [
        "x = int(input())\n",
        "d = [0] * 30001\n",
        "for i in range(2,x+1):\n",
        "  d[i] = d[i-1] +1\n",
        "  if i % 2 ==0:\n",
        "    d[i] = min(d[i],d[i//2]+1)\n",
        "  if i % 3 ==0:\n",
        "    d[i] = min(d[i],d[i//3]+1)\n",
        "  if i % 5 ==0:\n",
        "    d[i] = min(d[i],d[i//5]+1)\n",
        "    \n",
        "print(d[x])"
      ],
      "execution_count": 1,
      "outputs": [
        {
          "output_type": "stream",
          "text": [
            "26\n",
            "3\n"
          ],
          "name": "stdout"
        }
      ]
    },
    {
      "cell_type": "markdown",
      "metadata": {
        "id": "18yEdfrF9WeR",
        "colab_type": "text"
      },
      "source": [
        "#다이나믹 프로그래밍 #개미 전사"
      ]
    },
    {
      "cell_type": "code",
      "metadata": {
        "id": "1dyzhsx79Ydb",
        "colab_type": "code",
        "colab": {
          "base_uri": "https://localhost:8080/",
          "height": 71
        },
        "outputId": "b98c205f-d458-4738-9770-dccc180ca7d1"
      },
      "source": [
        "n = int(input())\n",
        "array = list(map(int,input().split()))\n",
        "\n",
        "d[0] * 100\n",
        "\n",
        "d[0] = array[0]\n",
        "d[1] = max(array[0],array[1])\n",
        "for i in range(2,n):\n",
        "  d[i] = max(d[i-1],d[i-2]+array[i])\n",
        "print(d[n-1])"
      ],
      "execution_count": 2,
      "outputs": [
        {
          "output_type": "stream",
          "text": [
            "4\n",
            "1 3 1 5\n",
            "8\n"
          ],
          "name": "stdout"
        }
      ]
    },
    {
      "cell_type": "markdown",
      "metadata": {
        "id": "6Pp2d1yv_wCz",
        "colab_type": "text"
      },
      "source": [
        "#다이나믹 프로그래밍 #바닥 공사"
      ]
    },
    {
      "cell_type": "code",
      "metadata": {
        "id": "CRcfsMgv_x_U",
        "colab_type": "code",
        "colab": {
          "base_uri": "https://localhost:8080/",
          "height": 53
        },
        "outputId": "bbd323eb-44e5-4d0a-dae3-a6de17c417b4"
      },
      "source": [
        "n = int(input())\n",
        "d = [0] * 1001\n",
        "\n",
        "d[1] =1\n",
        "d[2] = 3\n",
        "\n",
        "for i in range(3,n+1):\n",
        "  d[i] = (d[i-1]+ 2*d[i-2]) % 796796\n",
        "\n",
        "print(d[n])"
      ],
      "execution_count": 3,
      "outputs": [
        {
          "output_type": "stream",
          "text": [
            "3\n",
            "5\n"
          ],
          "name": "stdout"
        }
      ]
    },
    {
      "cell_type": "markdown",
      "metadata": {
        "id": "YhTFNqfzCMaf",
        "colab_type": "text"
      },
      "source": [
        "#다이나믹 프로그래밍 #효율적인 화폐 구성"
      ]
    },
    {
      "cell_type": "code",
      "metadata": {
        "id": "FzKmKxVTCoKP",
        "colab_type": "code",
        "colab": {
          "base_uri": "https://localhost:8080/",
          "height": 89
        },
        "outputId": "b898aab0-ecf8-4ead-acd0-ac0f1ed99317"
      },
      "source": [
        "#이해 못함;\n",
        "\n",
        "n,m =map(int,input().split())\n",
        "array = []\n",
        "for _ in range(n):\n",
        "  array.append(int(input()))\n",
        "\n",
        "d = [10001] * (m+1)\n",
        "\n",
        "d[0] = 0\n",
        "for i in range(n):\n",
        "  for j in range(array[i],m+1):\n",
        "    if d[j-array[i]] != 10001 :\n",
        "      d[j] = min(d[j-array[i]]+1,d[j])\n",
        "\n",
        "if d[m] == 10001:\n",
        "  print(-1)\n",
        "else:\n",
        "  print(d[m])\n"
      ],
      "execution_count": 7,
      "outputs": [
        {
          "output_type": "stream",
          "text": [
            "2 15\n",
            "2\n",
            "3\n",
            "5\n"
          ],
          "name": "stdout"
        }
      ]
    },
    {
      "cell_type": "markdown",
      "metadata": {
        "id": "CZZis31YUp0i",
        "colab_type": "text"
      },
      "source": [
        "# **7. 최단 경로**\n",
        " - '길 찾기' 문제\n",
        " - 한 지점에서 다른 특정 지점까지의 최단 경로를 구해야 하는 경우\n",
        " - 모든 지점에서 다른 모든 지점까지의 최단 경로를 모두 구해야 하는 경우\n"
      ]
    },
    {
      "cell_type": "markdown",
      "metadata": {
        "id": "adr2oHlwU8vl",
        "colab_type": "text"
      },
      "source": [
        "#다익스트라 최단 경로 알고리즘\n",
        " - 그래프에서 여러 개의 노드가 있을 때, 특정한 노드에서 출발하여 다른 노드로 가는 각각의 최단 경로를구해주는 알고리즘이다.\n",
        " - 음의 간선이 없을때 정상적으로 작동한다.\n",
        " - 원리\n",
        "  1. 출발 노드를 설정한다\n",
        "  2. 최단거리 테이블을 초기화 한다.\n",
        "  3. 방문하지 않은 노드중에서 최단 거리가 가장 짧은 노드를 선택한다.\n",
        "  4. 해당 노드를 거쳐 다른 노드로가는 비용을 계산하여 최단 거리 테이블을 갱신한다.\n",
        "  5. 위 과정에서 3과 4를 반복한다.\n",
        " - 구현방법\n",
        "  - 방법 1. 구현하기 쉽지만 느리게 동작하는 코드\n",
        "  - 방법 2. 구현하기에 조금 더 까다롭지만 빠르게 동작하는 코드\n",
        "\n",
        " - 한 단계당 하나의 노드에 대한 최단 거리를 확실히 찾는것으로 이해\n",
        " "
      ]
    },
    {
      "cell_type": "markdown",
      "metadata": {
        "id": "CMm3MrtFZeCy",
        "colab_type": "text"
      },
      "source": [
        "#간단한 다익스트라 알고리즘\n",
        " - 시간 복잡도 -> O(V^2) V->노드의 개수\n",
        " - 단계마다 '방문하지 않은 노드 중에서 최단 거리가 가장 짧은 노드를 선택' 하기 위해 매 단계마다 1차원 리스트의 모든 원소를 확인(순차 탐색)한다."
      ]
    },
    {
      "cell_type": "code",
      "metadata": {
        "id": "bq9zqGptZdN1",
        "colab_type": "code",
        "colab": {
          "base_uri": "https://localhost:8080/",
          "height": 244
        },
        "outputId": "7710373c-1bbf-4e5a-d2c7-41e700c6d626"
      },
      "source": [
        "import sys\n",
        "input = sys.stdin.readline\n",
        "INF = int(1e9) #무한을 의미하는 값으로 10억을 설정\n",
        "\n",
        "#노드 개수, 간선개수\n",
        "n,m = map(int,input().split())\n",
        "#시작노드\n",
        "start = int(input())\n",
        "#각 노드에 연결되어 있는 노드에 대한 정보를 담는 리스트를 만들기\n",
        "graph = [[] for i in range(n+1)]\n",
        "#방문한 적이 있는지 체크하는 목적의 리스트를 만들기\n",
        "visited = [False] * (n+1)\n",
        "#최단거리 테이블을 모두 무한으로 초기화\n",
        "distance = [INF] * (n+1)\n",
        "\n",
        "#모든 간선 정보 받기\n",
        "for _ in range(m):\n",
        "  a,b,c = map(int,input().split())\n",
        "  #a번 노드에서 b로 가는 노드의 비용이 c라는 의미\n",
        "  graph[a].append((b,c))\n",
        "\n",
        "#방문하지 않은 노드 중에서 가장 최단 거리가 짧은 노드의 번호를 반환\n",
        "def get_smallest_node():\n",
        "  min_value = INF\n",
        "  index = 0 #가장 최단거리가 짧은 노드(인덱스)\n",
        "  for i in range(1,n+1):\n",
        "    if distance[i] < min_value and not visited[i]:\n",
        "      min_value = distance[i]\n",
        "      index = i\n",
        "  return index\n",
        "\n",
        "def dijkstra(start):\n",
        "  distance[start] = 0\n",
        "  visited[start] = True\n",
        "  for j in graph[start]:\n",
        "    distance[j[0]] = j[1]\n",
        "  #시작노드를 제외한 전체 n-1개의 노드에 대해 반복\n",
        "  for i in range(n-1):\n",
        "    #현재 최단거리가 가장 짧은 놈을 찾아서 방문처리\n",
        "    now = get_smallest_node()\n",
        "    visited[now] = True\n",
        "    #현재노드와 연결된 다른 노드를 확인\n",
        "    for j in graph[now]:\n",
        "      cost = distance[now] + j[1]\n",
        "      #현재 노드를 거쳐서 ㄷㅏ른 노드로 이동하는 거리가 더 짧은 경우\n",
        "      if cost < distance[j[0]]:\n",
        "        distance[j[0]] = cost\n",
        "\n",
        "dijkstra(start)\n",
        "\n",
        "for i in range(1,n+1):\n",
        "  if distance[i] == INF:\n",
        "    print(infinity)\n",
        "  else:\n",
        "    print(distance[i])"
      ],
      "execution_count": 19,
      "outputs": [
        {
          "output_type": "error",
          "ename": "ValueError",
          "evalue": "ignored",
          "traceback": [
            "\u001b[0;31m---------------------------------------------------------------------------\u001b[0m",
            "\u001b[0;31mValueError\u001b[0m                                Traceback (most recent call last)",
            "\u001b[0;32m<ipython-input-19-112b07c4c5f8>\u001b[0m in \u001b[0;36m<module>\u001b[0;34m()\u001b[0m\n\u001b[1;32m      4\u001b[0m \u001b[0;34m\u001b[0m\u001b[0m\n\u001b[1;32m      5\u001b[0m \u001b[0;31m#노드 개수, 간선개수\u001b[0m\u001b[0;34m\u001b[0m\u001b[0;34m\u001b[0m\u001b[0;34m\u001b[0m\u001b[0m\n\u001b[0;32m----> 6\u001b[0;31m \u001b[0mn\u001b[0m\u001b[0;34m,\u001b[0m\u001b[0mm\u001b[0m \u001b[0;34m=\u001b[0m \u001b[0mmap\u001b[0m\u001b[0;34m(\u001b[0m\u001b[0mint\u001b[0m\u001b[0;34m,\u001b[0m\u001b[0minput\u001b[0m\u001b[0;34m(\u001b[0m\u001b[0;34m)\u001b[0m\u001b[0;34m.\u001b[0m\u001b[0msplit\u001b[0m\u001b[0;34m(\u001b[0m\u001b[0;34m)\u001b[0m\u001b[0;34m)\u001b[0m\u001b[0;34m\u001b[0m\u001b[0;34m\u001b[0m\u001b[0m\n\u001b[0m\u001b[1;32m      7\u001b[0m \u001b[0;31m#시작노드\u001b[0m\u001b[0;34m\u001b[0m\u001b[0;34m\u001b[0m\u001b[0;34m\u001b[0m\u001b[0m\n\u001b[1;32m      8\u001b[0m \u001b[0mstart\u001b[0m \u001b[0;34m=\u001b[0m \u001b[0mint\u001b[0m\u001b[0;34m(\u001b[0m\u001b[0minput\u001b[0m\u001b[0;34m(\u001b[0m\u001b[0;34m)\u001b[0m\u001b[0;34m)\u001b[0m\u001b[0;34m\u001b[0m\u001b[0;34m\u001b[0m\u001b[0m\n",
            "\u001b[0;31mValueError\u001b[0m: not enough values to unpack (expected 2, got 0)"
          ]
        }
      ]
    },
    {
      "cell_type": "code",
      "metadata": {
        "id": "CJVhTWMvN7OK",
        "colab_type": "code",
        "colab": {}
      },
      "source": [
        ""
      ],
      "execution_count": null,
      "outputs": []
    }
  ]
}